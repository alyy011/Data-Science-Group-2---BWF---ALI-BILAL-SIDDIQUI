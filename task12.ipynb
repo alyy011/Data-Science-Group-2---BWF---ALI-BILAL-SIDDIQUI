{
 "cells": [
  {
   "cell_type": "code",
   "execution_count": 4,
   "id": "15121990-ad7e-4d47-9bbc-f01ebaa74690",
   "metadata": {},
   "outputs": [
    {
     "name": "stdout",
     "output_type": "stream",
     "text": [
      "Series from list:\n",
      "0    10\n",
      "1    20\n",
      "2    30\n",
      "dtype: int64\n",
      "\n",
      "Series from numpy array:\n",
      "0    40\n",
      "1    50\n",
      "2    60\n",
      "dtype: int32\n",
      "\n",
      "Series from dictionary:\n",
      "a    70\n",
      "b    80\n",
      "c    90\n",
      "dtype: int64\n"
     ]
    }
   ],
   "source": [
    "#1. Create a Pandas Series from a Python list, NumPy array, and a dictionary\n",
    "import pandas as pd\n",
    "import numpy as np\n",
    "\n",
    "# From a list\n",
    "list_data = [10, 20, 30]\n",
    "series_from_list = pd.Series(list_data)\n",
    "print(\"Series from list:\")\n",
    "print(series_from_list)\n",
    "\n",
    "# From a numpy array\n",
    "array_data = np.array([40, 50, 60])\n",
    "series_from_array = pd.Series(array_data)\n",
    "print(\"\\nSeries from numpy array:\")\n",
    "print(series_from_array)\n",
    "\n",
    "# From a dictionary\n",
    "dict_data = {'a': 70, 'b': 80, 'c': 90}\n",
    "series_from_dict = pd.Series(dict_data)\n",
    "print(\"\\nSeries from dictionary:\")\n",
    "print(series_from_dict)\n"
   ]
  },
  {
   "cell_type": "code",
   "execution_count": 5,
   "id": "c85a1042-df38-4ecf-86d0-e83cd580a811",
   "metadata": {},
   "outputs": [
    {
     "name": "stdout",
     "output_type": "stream",
     "text": [
      "\n",
      "Series with custom index:\n",
      "x    10\n",
      "y    20\n",
      "z    30\n",
      "dtype: int64\n"
     ]
    }
   ],
   "source": [
    "#Assign a custom index to the Series.\n",
    "custom_index_series = pd.Series(list_data, index=['x', 'y', 'z'])\n",
    "print(\"\\nSeries with custom index:\")\n",
    "print(custom_index_series)"
   ]
  },
  {
   "cell_type": "code",
   "execution_count": 6,
   "id": "40cbc245-d128-4905-bd46-7f5b0b2e2799",
   "metadata": {},
   "outputs": [
    {
     "name": "stdout",
     "output_type": "stream",
     "text": [
      "\n",
      "Addition:\n",
      "0    5\n",
      "1    7\n",
      "2    9\n",
      "dtype: int64\n",
      "\n",
      "Subtraction:\n",
      "0   -3\n",
      "1   -3\n",
      "2   -3\n",
      "dtype: int64\n",
      "\n",
      "Multiplication:\n",
      "0     4\n",
      "1    10\n",
      "2    18\n",
      "dtype: int64\n",
      "\n",
      "Division:\n",
      "0    0.25\n",
      "1    0.40\n",
      "2    0.50\n",
      "dtype: float64\n"
     ]
    }
   ],
   "source": [
    "#Perform basic arithmetic operations on Series.\n",
    "series1 = pd.Series([1, 2, 3])\n",
    "series2 = pd.Series([4, 5, 6])\n",
    "\n",
    "# Addition\n",
    "print(\"\\nAddition:\")\n",
    "print(series1 + series2)\n",
    "\n",
    "# Subtraction\n",
    "print(\"\\nSubtraction:\")\n",
    "print(series1 - series2)\n",
    "\n",
    "# Multiplication\n",
    "print(\"\\nMultiplication:\")\n",
    "print(series1 * series2)\n",
    "\n",
    "# Division\n",
    "print(\"\\nDivision:\")\n",
    "print(series1 / series2)"
   ]
  },
  {
   "cell_type": "code",
   "execution_count": 7,
   "id": "fb428d4e-43b6-4498-ad55-796f8c263713",
   "metadata": {},
   "outputs": [
    {
     "name": "stdout",
     "output_type": "stream",
     "text": [
      "\n",
      "Accessing by label (x): 10\n",
      "Accessing by position (0): 10\n"
     ]
    }
   ],
   "source": [
    "#Access elements using index labels and positions.\n",
    "print(\"\\nAccessing by label (x):\", custom_index_series['x'])\n",
    "print(\"Accessing by position (0):\", custom_index_series.iloc[0])"
   ]
  },
  {
   "cell_type": "code",
   "execution_count": 8,
   "id": "9e9b5ebe-2d64-47d1-b651-28343d734007",
   "metadata": {},
   "outputs": [
    {
     "name": "stdout",
     "output_type": "stream",
     "text": [
      "\n",
      "Filtered Series (values > 15):\n",
      "y    20\n",
      "z    30\n",
      "dtype: int64\n"
     ]
    }
   ],
   "source": [
    "# Filter the Series to include only values greater than a specific threshold.\n",
    "filtered_series = custom_index_series[custom_index_series > 15]\n",
    "print(\"\\nFiltered Series (values > 15):\")\n",
    "print(filtered_series)"
   ]
  },
  {
   "cell_type": "code",
   "execution_count": 9,
   "id": "fdd47356-4fbd-41fd-9fd8-8b4cf99d260a",
   "metadata": {},
   "outputs": [
    {
     "name": "stdout",
     "output_type": "stream",
     "text": [
      "\n",
      "DataFrame from dictionary of lists:\n",
      "      Name  Age         City\n",
      "0    Alice   25     New York\n",
      "1      Bob   30  Los Angeles\n",
      "2  Charlie   35      Chicago\n"
     ]
    }
   ],
   "source": [
    "#Create a DataFrame from a dictionary of lists.\n",
    "data_dict = {\n",
    "    'Name': ['Alice', 'Bob', 'Charlie'],\n",
    "    'Age': [25, 30, 35],\n",
    "    'City': ['New York', 'Los Angeles', 'Chicago']\n",
    "}\n",
    "df_from_dict = pd.DataFrame(data_dict)\n",
    "print(\"\\nDataFrame from dictionary of lists:\")\n",
    "print(df_from_dict)"
   ]
  },
  {
   "cell_type": "code",
   "execution_count": 10,
   "id": "5d3218fe-9c59-4ae4-930e-1b9179fada3c",
   "metadata": {},
   "outputs": [
    {
     "name": "stdout",
     "output_type": "stream",
     "text": [
      "\n",
      "DataFrame from numpy array:\n",
      "      Column1  Column2\n",
      "Row1        1        2\n",
      "Row2        3        4\n",
      "Row3        5        6\n"
     ]
    }
   ],
   "source": [
    "#Create a DataFrame from a numpy array, specifying column and index names\n",
    "array_data = np.array([[1, 2], [3, 4], [5, 6]])\n",
    "df_from_array = pd.DataFrame(array_data, columns=['Column1', 'Column2'], index=['Row1', 'Row2', 'Row3'])\n",
    "print(\"\\nDataFrame from numpy array:\")\n",
    "print(df_from_array)"
   ]
  },
  {
   "cell_type": "code",
   "execution_count": 11,
   "id": "006f0a37-d107-4474-abd4-9f876c0bf5a0",
   "metadata": {},
   "outputs": [],
   "source": [
    "#Load a DataFrame from a CSV file.\n",
    "import pandas as pd\n",
    "df = pd.read_csv('customers-100.csv')\n"
   ]
  },
  {
   "cell_type": "code",
   "execution_count": 10,
   "id": "348992fe-a779-4a44-92be-b181f56f819d",
   "metadata": {},
   "outputs": [
    {
     "name": "stdout",
     "output_type": "stream",
     "text": [
      "First five rows:\n",
      "   Index      Customer Id First Name Last Name  \\\n",
      "0      1  DD37Cf93aecA6Dc     Sheryl    Baxter   \n",
      "1      2  1Ef7b82A4CAAD10    Preston    Lozano   \n",
      "2      3  6F94879bDAfE5a6        Roy     Berry   \n",
      "3      4  5Cef8BFA16c5e3c      Linda     Olsen   \n",
      "4      5  053d585Ab6b3159     Joanna    Bender   \n",
      "\n",
      "                           Company               City  \\\n",
      "0                  Rasmussen Group       East Leonard   \n",
      "1                      Vega-Gentry  East Jimmychester   \n",
      "2                    Murillo-Perry      Isabelborough   \n",
      "3  Dominguez, Mcmillan and Donovan         Bensonview   \n",
      "4         Martin, Lang and Andrade     West Priscilla   \n",
      "\n",
      "                      Country                 Phone 1                Phone 2  \\\n",
      "0                       Chile            229.077.5154       397.884.0519x718   \n",
      "1                    Djibouti              5153435776       686-620-1820x944   \n",
      "2         Antigua and Barbuda         +1-539-402-0259    (496)978-3969x58947   \n",
      "3          Dominican Republic  001-808-617-6467x12895        +1-813-324-8756   \n",
      "4  Slovakia (Slovak Republic)  001-234-203-0635x76146  001-199-446-3860x3486   \n",
      "\n",
      "                         Email Subscription Date                      Website  \n",
      "0     zunigavanessa@smith.info        2020-08-24   http://www.stephenson.com/  \n",
      "1              vmata@colon.com        2021-04-23        http://www.hobbs.com/  \n",
      "2          beckycarr@hogan.com        2020-03-25     http://www.lawrence.com/  \n",
      "3  stanleyblackwell@benson.org        2020-06-02   http://www.good-lyons.com/  \n",
      "4      colinalvarado@miles.net        2021-04-17  https://goodwin-ingram.com/  \n"
     ]
    }
   ],
   "source": [
    "# Display the first and last five rows of the DataFrame\n",
    "print(\"First five rows:\")\n",
    "print(df.head())"
   ]
  },
  {
   "cell_type": "code",
   "execution_count": 12,
   "id": "a85aef46-a841-4598-995b-5c2079ae59c0",
   "metadata": {},
   "outputs": [
    {
     "name": "stdout",
     "output_type": "stream",
     "text": [
      "\n",
      "Last five rows:\n",
      "    Index      Customer Id First Name Last Name                Company  \\\n",
      "95     96  cb8E23e48d22Eae       Karl     Greer              Carey LLC   \n",
      "96     97  CeD220bdAaCfaDf       Lynn  Atkinson  Ware, Burns and Oneal   \n",
      "97     98  28CDbC0dFe4b1Db       Fred    Guerra          Schmitt-Jones   \n",
      "98     99  c23d1D9EE8DEB0A     Yvonne    Farmer     Fitzgerald-Harrell   \n",
      "99    100  2354a0E336A91A1   Clarence    Haynes     Le, Nash and Cross   \n",
      "\n",
      "               City          Country               Phone 1  \\\n",
      "95     East Richard           Guyana   (188)169-1674x58692   \n",
      "96     New Bradview        Sri Lanka       +1-846-706-2218   \n",
      "97       Ortegaland  Solomon Islands  +1-753-067-8419x7170   \n",
      "98  Lake Elijahview            Aruba         (530)311-9786   \n",
      "99        Judymouth         Honduras         (753)813-6941   \n",
      "\n",
      "                   Phone 2                           Email Subscription Date  \\\n",
      "95    001-841-293-3519x614                hhart@jensen.com        2022-01-30   \n",
      "96            605.413.3198               vkemp@ferrell.com        2021-07-10   \n",
      "97   +1-632-666-7507x92121                swagner@kane.org        2021-09-18   \n",
      "98  001-869-452-0943x12424  mccarthystephen@horn-green.biz        2021-08-11   \n",
      "99            783.639.1472          colleen91@faulkner.biz        2020-03-11   \n",
      "\n",
      "                              Website  \n",
      "95            http://hayes-perez.com/  \n",
      "96         https://novak-allison.com/  \n",
      "97              https://www.ross.com/  \n",
      "98               http://watkins.info/  \n",
      "99  http://www.hatfield-saunders.net/  \n"
     ]
    }
   ],
   "source": [
    "print(\"\\nLast five rows:\")\n",
    "print(df.tail())\n"
   ]
  },
  {
   "cell_type": "code",
   "execution_count": 13,
   "id": "9bc2fe21-7abf-456b-bc4e-710b45a70ce9",
   "metadata": {},
   "outputs": [
    {
     "name": "stdout",
     "output_type": "stream",
     "text": [
      "\n",
      "Summary of DataFrame:\n",
      "            Index\n",
      "count  100.000000\n",
      "mean    50.500000\n",
      "std     29.011492\n",
      "min      1.000000\n",
      "25%     25.750000\n",
      "50%     50.500000\n",
      "75%     75.250000\n",
      "max    100.000000\n"
     ]
    }
   ],
   "source": [
    "\n",
    "# Get a summary of the DataFrame including the mean, median, and standard deviation of numeric columns\n",
    "print(\"\\nSummary of DataFrame:\")\n",
    "print(df.describe())\n",
    "\n"
   ]
  },
  {
   "cell_type": "code",
   "execution_count": 14,
   "id": "394fa893-ef8f-48e0-bdb1-94b747c8a141",
   "metadata": {},
   "outputs": [
    {
     "name": "stdout",
     "output_type": "stream",
     "text": [
      "0       Sheryl\n",
      "1      Preston\n",
      "2          Roy\n",
      "3        Linda\n",
      "4       Joanna\n",
      "        ...   \n",
      "95        Karl\n",
      "96        Lynn\n",
      "97        Fred\n",
      "98      Yvonne\n",
      "99    Clarence\n",
      "Name: First Name, Length: 100, dtype: object\n"
     ]
    }
   ],
   "source": [
    "# Extract a specific column as a Series \n",
    "name_series = df['First Name']\n",
    "print(name_series)"
   ]
  },
  {
   "cell_type": "code",
   "execution_count": 15,
   "id": "7a83231f-1143-4129-937d-a71a1c67f50b",
   "metadata": {},
   "outputs": [
    {
     "name": "stdout",
     "output_type": "stream",
     "text": [
      "\n",
      "Filtered DataFrame (Country == Bulgaria):\n",
      "    Index      Customer Id First Name Last Name                       Company  \\\n",
      "7       8  0e04AFde9f225dE      Brett    Mullen  Sanford, Davenport and Giles   \n",
      "43     44  D3fC11A9C235Dc6       Luis     Greer                     Cross PLC   \n",
      "\n",
      "          City   Country               Phone 1            Phone 2  \\\n",
      "7      Kimport  Bulgaria  001-583-352-7197x297   001-333-145-0369   \n",
      "43  North Drew  Bulgaria  001-336-025-6849x701  684.698.2911x6092   \n",
      "\n",
      "                             Email Subscription Date  \\\n",
      "7                  asnow@colon.com        2021-04-12   \n",
      "43  bstuart@williamson-mcclure.com        2022-05-15   \n",
      "\n",
      "                          Website  \n",
      "7     https://hammond-ramsey.com/  \n",
      "43  https://fletcher-nielsen.com/  \n"
     ]
    }
   ],
   "source": [
    "#Filter rows based on column values.\n",
    "filtered_df = df[df['Country'] == 'Bulgaria']\n",
    "print(\"\\nFiltered DataFrame (Country == Bulgaria):\")\n",
    "print(filtered_df)"
   ]
  },
  {
   "cell_type": "code",
   "execution_count": 17,
   "id": "258a0e4a-75a4-41f2-9458-8a2f252453ad",
   "metadata": {},
   "outputs": [
    {
     "name": "stdout",
     "output_type": "stream",
     "text": [
      "   Index      Customer Id First Name Last Name                       Company  \\\n",
      "7      8  0e04AFde9f225dE      Brett    Mullen  Sanford, Davenport and Giles   \n",
      "\n",
      "      City   Country               Phone 1           Phone 2            Email  \\\n",
      "7  Kimport  Bulgaria  001-583-352-7197x297  001-333-145-0369  asnow@colon.com   \n",
      "\n",
      "  Subscription Date                      Website  \n",
      "7        2021-04-12  https://hammond-ramsey.com/  \n"
     ]
    }
   ],
   "source": [
    "# Select rows based on multiple conditions \n",
    "multi_condition_df = df[(df['Last Name'] ==  'Mullen') & (df['Country'] == 'Bulgaria')]\n",
    "print(multi_condition_df)"
   ]
  },
  {
   "cell_type": "code",
   "execution_count": 18,
   "id": "38f80f7c-00fd-4d9f-b153-1218266589be",
   "metadata": {},
   "outputs": [
    {
     "name": "stdout",
     "output_type": "stream",
     "text": [
      "    Index      Customer Id First Name Last Name  \\\n",
      "0       1  DD37Cf93aecA6Dc     Sheryl    Baxter   \n",
      "1       2  1Ef7b82A4CAAD10    Preston    Lozano   \n",
      "2       3  6F94879bDAfE5a6        Roy     Berry   \n",
      "3       4  5Cef8BFA16c5e3c      Linda     Olsen   \n",
      "4       5  053d585Ab6b3159     Joanna    Bender   \n",
      "..    ...              ...        ...       ...   \n",
      "95     96  cb8E23e48d22Eae       Karl     Greer   \n",
      "96     97  CeD220bdAaCfaDf       Lynn  Atkinson   \n",
      "97     98  28CDbC0dFe4b1Db       Fred    Guerra   \n",
      "98     99  c23d1D9EE8DEB0A     Yvonne    Farmer   \n",
      "99    100  2354a0E336A91A1   Clarence    Haynes   \n",
      "\n",
      "                            Company               City  \\\n",
      "0                   Rasmussen Group       East Leonard   \n",
      "1                       Vega-Gentry  East Jimmychester   \n",
      "2                     Murillo-Perry      Isabelborough   \n",
      "3   Dominguez, Mcmillan and Donovan         Bensonview   \n",
      "4          Martin, Lang and Andrade     West Priscilla   \n",
      "..                              ...                ...   \n",
      "95                        Carey LLC       East Richard   \n",
      "96            Ware, Burns and Oneal       New Bradview   \n",
      "97                    Schmitt-Jones         Ortegaland   \n",
      "98               Fitzgerald-Harrell    Lake Elijahview   \n",
      "99               Le, Nash and Cross          Judymouth   \n",
      "\n",
      "                       Country                 Phone 1  \\\n",
      "0                        Chile            229.077.5154   \n",
      "1                     Djibouti              5153435776   \n",
      "2          Antigua and Barbuda         +1-539-402-0259   \n",
      "3           Dominican Republic  001-808-617-6467x12895   \n",
      "4   Slovakia (Slovak Republic)  001-234-203-0635x76146   \n",
      "..                         ...                     ...   \n",
      "95                      Guyana     (188)169-1674x58692   \n",
      "96                   Sri Lanka         +1-846-706-2218   \n",
      "97             Solomon Islands    +1-753-067-8419x7170   \n",
      "98                       Aruba           (530)311-9786   \n",
      "99                    Honduras           (753)813-6941   \n",
      "\n",
      "                   Phone 2                           Email Subscription Date  \\\n",
      "0         397.884.0519x718        zunigavanessa@smith.info        2020-08-24   \n",
      "1         686-620-1820x944                 vmata@colon.com        2021-04-23   \n",
      "2      (496)978-3969x58947             beckycarr@hogan.com        2020-03-25   \n",
      "3          +1-813-324-8756     stanleyblackwell@benson.org        2020-06-02   \n",
      "4    001-199-446-3860x3486         colinalvarado@miles.net        2021-04-17   \n",
      "..                     ...                             ...               ...   \n",
      "95    001-841-293-3519x614                hhart@jensen.com        2022-01-30   \n",
      "96            605.413.3198               vkemp@ferrell.com        2021-07-10   \n",
      "97   +1-632-666-7507x92121                swagner@kane.org        2021-09-18   \n",
      "98  001-869-452-0943x12424  mccarthystephen@horn-green.biz        2021-08-11   \n",
      "99            783.639.1472          colleen91@faulkner.biz        2020-03-11   \n",
      "\n",
      "                              Website   State  \n",
      "0          http://www.stephenson.com/  Alaska  \n",
      "1               http://www.hobbs.com/  Alaska  \n",
      "2            http://www.lawrence.com/  Alaska  \n",
      "3          http://www.good-lyons.com/  Alaska  \n",
      "4         https://goodwin-ingram.com/  Alaska  \n",
      "..                                ...     ...  \n",
      "95            http://hayes-perez.com/  Alaska  \n",
      "96         https://novak-allison.com/  Alaska  \n",
      "97              https://www.ross.com/  Alaska  \n",
      "98               http://watkins.info/  Alaska  \n",
      "99  http://www.hatfield-saunders.net/  Alaska  \n",
      "\n",
      "[100 rows x 13 columns]\n"
     ]
    }
   ],
   "source": [
    "# Add a new column to the DataFrame \n",
    "df['State'] = 'Alaska'  \n",
    "print(df)"
   ]
  },
  {
   "cell_type": "code",
   "execution_count": 19,
   "id": "5b9c9de9-cabf-48f4-a1ea-06e8d763ad0a",
   "metadata": {},
   "outputs": [
    {
     "name": "stdout",
     "output_type": "stream",
     "text": [
      "    Index      Customer Id First Name Last Name  \\\n",
      "0       1  DD37Cf93aecA6Dc     Sheryl    Baxter   \n",
      "1       2  1Ef7b82A4CAAD10    Preston    Lozano   \n",
      "2       3  6F94879bDAfE5a6        Roy     Berry   \n",
      "3       4  5Cef8BFA16c5e3c      Linda     Olsen   \n",
      "4       5  053d585Ab6b3159     Joanna    Bender   \n",
      "..    ...              ...        ...       ...   \n",
      "95     96  cb8E23e48d22Eae       Karl     Greer   \n",
      "96     97  CeD220bdAaCfaDf       Lynn  Atkinson   \n",
      "97     98  28CDbC0dFe4b1Db       Fred    Guerra   \n",
      "98     99  c23d1D9EE8DEB0A     Yvonne    Farmer   \n",
      "99    100  2354a0E336A91A1   Clarence    Haynes   \n",
      "\n",
      "                            Company               City  \\\n",
      "0                   Rasmussen Group       East Leonard   \n",
      "1                       Vega-Gentry  East Jimmychester   \n",
      "2                     Murillo-Perry      Isabelborough   \n",
      "3   Dominguez, Mcmillan and Donovan         Bensonview   \n",
      "4          Martin, Lang and Andrade     West Priscilla   \n",
      "..                              ...                ...   \n",
      "95                        Carey LLC       East Richard   \n",
      "96            Ware, Burns and Oneal       New Bradview   \n",
      "97                    Schmitt-Jones         Ortegaland   \n",
      "98               Fitzgerald-Harrell    Lake Elijahview   \n",
      "99               Le, Nash and Cross          Judymouth   \n",
      "\n",
      "                       Country                 Phone 1  \\\n",
      "0                        Chile            229.077.5154   \n",
      "1                     Djibouti              5153435776   \n",
      "2          Antigua and Barbuda         +1-539-402-0259   \n",
      "3           Dominican Republic  001-808-617-6467x12895   \n",
      "4   Slovakia (Slovak Republic)  001-234-203-0635x76146   \n",
      "..                         ...                     ...   \n",
      "95                      Guyana     (188)169-1674x58692   \n",
      "96                   Sri Lanka         +1-846-706-2218   \n",
      "97             Solomon Islands    +1-753-067-8419x7170   \n",
      "98                       Aruba           (530)311-9786   \n",
      "99                    Honduras           (753)813-6941   \n",
      "\n",
      "                   Phone 2                           Email Subscription Date  \\\n",
      "0         397.884.0519x718        zunigavanessa@smith.info        2020-08-24   \n",
      "1         686-620-1820x944                 vmata@colon.com        2021-04-23   \n",
      "2      (496)978-3969x58947             beckycarr@hogan.com        2020-03-25   \n",
      "3          +1-813-324-8756     stanleyblackwell@benson.org        2020-06-02   \n",
      "4    001-199-446-3860x3486         colinalvarado@miles.net        2021-04-17   \n",
      "..                     ...                             ...               ...   \n",
      "95    001-841-293-3519x614                hhart@jensen.com        2022-01-30   \n",
      "96            605.413.3198               vkemp@ferrell.com        2021-07-10   \n",
      "97   +1-632-666-7507x92121                swagner@kane.org        2021-09-18   \n",
      "98  001-869-452-0943x12424  mccarthystephen@horn-green.biz        2021-08-11   \n",
      "99            783.639.1472          colleen91@faulkner.biz        2020-03-11   \n",
      "\n",
      "                              Website  \n",
      "0          http://www.stephenson.com/  \n",
      "1               http://www.hobbs.com/  \n",
      "2            http://www.lawrence.com/  \n",
      "3          http://www.good-lyons.com/  \n",
      "4         https://goodwin-ingram.com/  \n",
      "..                                ...  \n",
      "95            http://hayes-perez.com/  \n",
      "96         https://novak-allison.com/  \n",
      "97              https://www.ross.com/  \n",
      "98               http://watkins.info/  \n",
      "99  http://www.hatfield-saunders.net/  \n",
      "\n",
      "[100 rows x 12 columns]\n"
     ]
    }
   ],
   "source": [
    "# Delete a column from the DataFrame \n",
    "df.drop('State', axis=1, inplace=True)\n",
    "\n",
    "print(df)"
   ]
  },
  {
   "cell_type": "code",
   "execution_count": 20,
   "id": "89fb3570-8836-43e2-a10b-2baac3f0664e",
   "metadata": {},
   "outputs": [
    {
     "name": "stdout",
     "output_type": "stream",
     "text": [
      "    Index      Customer Id Customer Name Last Name  \\\n",
      "0       1  DD37Cf93aecA6Dc        Sheryl    Baxter   \n",
      "1       2  1Ef7b82A4CAAD10       Preston    Lozano   \n",
      "2       3  6F94879bDAfE5a6           Roy     Berry   \n",
      "3       4  5Cef8BFA16c5e3c         Linda     Olsen   \n",
      "4       5  053d585Ab6b3159        Joanna    Bender   \n",
      "..    ...              ...           ...       ...   \n",
      "95     96  cb8E23e48d22Eae          Karl     Greer   \n",
      "96     97  CeD220bdAaCfaDf          Lynn  Atkinson   \n",
      "97     98  28CDbC0dFe4b1Db          Fred    Guerra   \n",
      "98     99  c23d1D9EE8DEB0A        Yvonne    Farmer   \n",
      "99    100  2354a0E336A91A1      Clarence    Haynes   \n",
      "\n",
      "                            Company      Customer City  \\\n",
      "0                   Rasmussen Group       East Leonard   \n",
      "1                       Vega-Gentry  East Jimmychester   \n",
      "2                     Murillo-Perry      Isabelborough   \n",
      "3   Dominguez, Mcmillan and Donovan         Bensonview   \n",
      "4          Martin, Lang and Andrade     West Priscilla   \n",
      "..                              ...                ...   \n",
      "95                        Carey LLC       East Richard   \n",
      "96            Ware, Burns and Oneal       New Bradview   \n",
      "97                    Schmitt-Jones         Ortegaland   \n",
      "98               Fitzgerald-Harrell    Lake Elijahview   \n",
      "99               Le, Nash and Cross          Judymouth   \n",
      "\n",
      "                       Country                 Phone 1  \\\n",
      "0                        Chile            229.077.5154   \n",
      "1                     Djibouti              5153435776   \n",
      "2          Antigua and Barbuda         +1-539-402-0259   \n",
      "3           Dominican Republic  001-808-617-6467x12895   \n",
      "4   Slovakia (Slovak Republic)  001-234-203-0635x76146   \n",
      "..                         ...                     ...   \n",
      "95                      Guyana     (188)169-1674x58692   \n",
      "96                   Sri Lanka         +1-846-706-2218   \n",
      "97             Solomon Islands    +1-753-067-8419x7170   \n",
      "98                       Aruba           (530)311-9786   \n",
      "99                    Honduras           (753)813-6941   \n",
      "\n",
      "                   Phone 2                           Email Subscription Date  \\\n",
      "0         397.884.0519x718        zunigavanessa@smith.info        2020-08-24   \n",
      "1         686-620-1820x944                 vmata@colon.com        2021-04-23   \n",
      "2      (496)978-3969x58947             beckycarr@hogan.com        2020-03-25   \n",
      "3          +1-813-324-8756     stanleyblackwell@benson.org        2020-06-02   \n",
      "4    001-199-446-3860x3486         colinalvarado@miles.net        2021-04-17   \n",
      "..                     ...                             ...               ...   \n",
      "95    001-841-293-3519x614                hhart@jensen.com        2022-01-30   \n",
      "96            605.413.3198               vkemp@ferrell.com        2021-07-10   \n",
      "97   +1-632-666-7507x92121                swagner@kane.org        2021-09-18   \n",
      "98  001-869-452-0943x12424  mccarthystephen@horn-green.biz        2021-08-11   \n",
      "99            783.639.1472          colleen91@faulkner.biz        2020-03-11   \n",
      "\n",
      "                              Website  \n",
      "0          http://www.stephenson.com/  \n",
      "1               http://www.hobbs.com/  \n",
      "2            http://www.lawrence.com/  \n",
      "3          http://www.good-lyons.com/  \n",
      "4         https://goodwin-ingram.com/  \n",
      "..                                ...  \n",
      "95            http://hayes-perez.com/  \n",
      "96         https://novak-allison.com/  \n",
      "97              https://www.ross.com/  \n",
      "98               http://watkins.info/  \n",
      "99  http://www.hatfield-saunders.net/  \n",
      "\n",
      "[100 rows x 12 columns]\n"
     ]
    }
   ],
   "source": [
    "# Rename columns in the DataFrame \n",
    "df.rename(columns={'First Name': 'Customer Name', 'City': 'Customer City'}, inplace=True)\n",
    "print(df)"
   ]
  },
  {
   "cell_type": "code",
   "execution_count": null,
   "id": "2eece448-4c49-46f4-8ae2-4c049603260f",
   "metadata": {},
   "outputs": [],
   "source": []
  }
 ],
 "metadata": {
  "kernelspec": {
   "display_name": "Python 3 (ipykernel)",
   "language": "python",
   "name": "python3"
  },
  "language_info": {
   "codemirror_mode": {
    "name": "ipython",
    "version": 3
   },
   "file_extension": ".py",
   "mimetype": "text/x-python",
   "name": "python",
   "nbconvert_exporter": "python",
   "pygments_lexer": "ipython3",
   "version": "3.11.7"
  }
 },
 "nbformat": 4,
 "nbformat_minor": 5
}
