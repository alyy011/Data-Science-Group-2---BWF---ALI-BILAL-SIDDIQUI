{
 "cells": [
  {
   "cell_type": "code",
   "execution_count": 1,
   "id": "2a5ca895-71f1-4399-a864-678dcdfe8226",
   "metadata": {},
   "outputs": [],
   "source": [
    "\n",
    "events = []\n"
   ]
  },
  {
   "cell_type": "code",
   "execution_count": 2,
   "id": "e5732151-242b-4d0f-ba23-8c211e732c99",
   "metadata": {},
   "outputs": [
    {
     "name": "stdout",
     "output_type": "stream",
     "text": [
      "['Soccer Match']\n"
     ]
    }
   ],
   "source": [
    "\n",
    "events.append('Football Match')\n",
    "events.append('Basketball Game')\n",
    "\n",
    "\n",
    "events.remove('Football Match')\n",
    "\n",
    "\n",
    "events[0] = 'Soccer Match'\n",
    "\n",
    "print(events)  "
   ]
  },
  {
   "cell_type": "code",
   "execution_count": 3,
   "id": "7226ff72-4b37-4078-9805-7f9d3e868a0a",
   "metadata": {},
   "outputs": [
    {
     "name": "stdout",
     "output_type": "stream",
     "text": [
      "Team A\n",
      "('Player4', 'Player5', 'Player6')\n"
     ]
    }
   ],
   "source": [
    "\n",
    "team_1 = ('Team A', 'Player1', 'Player2', 'Player3')\n",
    "team_2 = ('Team B', 'Player4', 'Player5', 'Player6')\n",
    "\n",
    "\n",
    "print(team_1[0])  \n",
    "print(team_2[1:])\n"
   ]
  },
  {
   "cell_type": "code",
   "execution_count": 4,
   "id": "c566ef8a-4d84-4e15-9aa2-6bc070bdb46c",
   "metadata": {},
   "outputs": [
    {
     "name": "stdout",
     "output_type": "stream",
     "text": [
      "{'Soccer', 'Basketball', 'Tennis'}\n"
     ]
    }
   ],
   "source": [
    "\n",
    "sports_categories = {'Soccer', 'Basketball'}\n",
    "\n",
    "\n",
    "sports_categories.add('Tennis')\n",
    "\n",
    "\n",
    "sports_categories.add('Soccer')\n",
    "\n",
    "print(sports_categories)\n"
   ]
  },
  {
   "cell_type": "code",
   "execution_count": 5,
   "id": "201438ea-3258-4dda-8c9f-bdc674df6173",
   "metadata": {},
   "outputs": [
    {
     "name": "stdout",
     "output_type": "stream",
     "text": [
      "2-1\n",
      "3-1\n",
      "{'Soccer Match': {'teams': (('Team A', 'Player1', 'Player2', 'Player3'), ('Team B', 'Player4', 'Player5', 'Player6')), 'score': '3-1', 'date': '2024-06-24'}, 'Basketball Game': {'teams': ('Team X', 'Team Y'), 'score': '89-76', 'date': '2024-06-25'}, 'Tennis Match': {'teams': ('Player A', 'Player B'), 'score': '6-3, 6-4', 'date': '2024-06-26'}}\n"
     ]
    }
   ],
   "source": [
    "\n",
    "event_details = {\n",
    "    'Soccer Match': {\n",
    "        'teams': (team_1, team_2),\n",
    "        'score': '2-1',\n",
    "        'date': '2024-06-24'\n",
    "    },\n",
    "    'Basketball Game': {\n",
    "        'teams': ('Team X', 'Team Y'),\n",
    "        'score': '89-76',\n",
    "        'date': '2024-06-25'\n",
    "    }\n",
    "}\n",
    "\n",
    "\n",
    "print(event_details['Soccer Match']['score'])  \n",
    "event_details['Soccer Match']['score'] = '3-1'\n",
    "print(event_details['Soccer Match']['score']) \n",
    "\n",
    "event_details['Tennis Match'] = {\n",
    "    'teams': ('Player A', 'Player B'),\n",
    "    'score': '6-3, 6-4',\n",
    "    'date': '2024-06-26'\n",
    "}\n",
    "\n",
    "print(event_details)\n"
   ]
  },
  {
   "cell_type": "code",
   "execution_count": null,
   "id": "f8c44fb3-2116-4ad5-af0b-19a34786cb02",
   "metadata": {},
   "outputs": [],
   "source": []
  }
 ],
 "metadata": {
  "kernelspec": {
   "display_name": "Python 3 (ipykernel)",
   "language": "python",
   "name": "python3"
  },
  "language_info": {
   "codemirror_mode": {
    "name": "ipython",
    "version": 3
   },
   "file_extension": ".py",
   "mimetype": "text/x-python",
   "name": "python",
   "nbconvert_exporter": "python",
   "pygments_lexer": "ipython3",
   "version": "3.11.7"
  }
 },
 "nbformat": 4,
 "nbformat_minor": 5
}
