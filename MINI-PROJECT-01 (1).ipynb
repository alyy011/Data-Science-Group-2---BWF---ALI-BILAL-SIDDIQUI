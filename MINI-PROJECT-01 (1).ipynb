{
 "cells": [
  {
   "cell_type": "code",
   "execution_count": 2,
   "id": "01514789-3a03-4b67-87fe-702d55efeeda",
   "metadata": {},
   "outputs": [],
   "source": [
    "import numpy as np\n",
    "import pandas as pd\n",
    "import matplotlib.pyplot as plt"
   ]
  },
  {
   "cell_type": "code",
   "execution_count": 11,
   "id": "8dab54e5-4e4b-4863-86fa-2375ed865c64",
   "metadata": {},
   "outputs": [
    {
     "data": {
      "text/html": [
       "<div>\n",
       "<style scoped>\n",
       "    .dataframe tbody tr th:only-of-type {\n",
       "        vertical-align: middle;\n",
       "    }\n",
       "\n",
       "    .dataframe tbody tr th {\n",
       "        vertical-align: top;\n",
       "    }\n",
       "\n",
       "    .dataframe thead th {\n",
       "        text-align: right;\n",
       "    }\n",
       "</style>\n",
       "<table border=\"1\" class=\"dataframe\">\n",
       "  <thead>\n",
       "    <tr style=\"text-align: right;\">\n",
       "      <th></th>\n",
       "      <th>course_id</th>\n",
       "      <th>course_type</th>\n",
       "      <th>year</th>\n",
       "      <th>enrollment_count</th>\n",
       "      <th>pre_score</th>\n",
       "      <th>post_score</th>\n",
       "      <th>pre_requirement</th>\n",
       "      <th>department</th>\n",
       "    </tr>\n",
       "  </thead>\n",
       "  <tbody>\n",
       "    <tr>\n",
       "      <th>0</th>\n",
       "      <td>1</td>\n",
       "      <td>classroom</td>\n",
       "      <td>2018</td>\n",
       "      <td>165</td>\n",
       "      <td>28.14</td>\n",
       "      <td>73.0</td>\n",
       "      <td>Beginner</td>\n",
       "      <td>Science</td>\n",
       "    </tr>\n",
       "    <tr>\n",
       "      <th>1</th>\n",
       "      <td>2</td>\n",
       "      <td>classroom</td>\n",
       "      <td>2020</td>\n",
       "      <td>175</td>\n",
       "      <td>79.68</td>\n",
       "      <td>86.0</td>\n",
       "      <td>NaN</td>\n",
       "      <td>Science</td>\n",
       "    </tr>\n",
       "    <tr>\n",
       "      <th>2</th>\n",
       "      <td>3</td>\n",
       "      <td>online</td>\n",
       "      <td>2016</td>\n",
       "      <td>257</td>\n",
       "      <td>57.24</td>\n",
       "      <td>80.0</td>\n",
       "      <td>NaN</td>\n",
       "      <td>Mathematics</td>\n",
       "    </tr>\n",
       "    <tr>\n",
       "      <th>3</th>\n",
       "      <td>4</td>\n",
       "      <td>online</td>\n",
       "      <td>2013</td>\n",
       "      <td>251</td>\n",
       "      <td>97.67</td>\n",
       "      <td>75.0</td>\n",
       "      <td>Beginner</td>\n",
       "      <td>Technology</td>\n",
       "    </tr>\n",
       "    <tr>\n",
       "      <th>4</th>\n",
       "      <td>5</td>\n",
       "      <td>classroom</td>\n",
       "      <td>2019</td>\n",
       "      <td>165</td>\n",
       "      <td>39.75</td>\n",
       "      <td>76.0</td>\n",
       "      <td>Beginner</td>\n",
       "      <td>Science</td>\n",
       "    </tr>\n",
       "  </tbody>\n",
       "</table>\n",
       "</div>"
      ],
      "text/plain": [
       "   course_id course_type  year  enrollment_count pre_score  post_score  \\\n",
       "0          1   classroom  2018               165     28.14        73.0   \n",
       "1          2   classroom  2020               175     79.68        86.0   \n",
       "2          3      online  2016               257     57.24        80.0   \n",
       "3          4      online  2013               251     97.67        75.0   \n",
       "4          5   classroom  2019               165     39.75        76.0   \n",
       "\n",
       "  pre_requirement   department  \n",
       "0        Beginner      Science  \n",
       "1             NaN      Science  \n",
       "2             NaN  Mathematics  \n",
       "3        Beginner   Technology  \n",
       "4        Beginner      Science  "
      ]
     },
     "execution_count": 11,
     "metadata": {},
     "output_type": "execute_result"
    }
   ],
   "source": [
    "df = pd.read_csv('university_enrollment_(Mini-project-01).csv')\n",
    "df.head()\n"
   ]
  },
  {
   "cell_type": "code",
   "execution_count": 12,
   "id": "177f07a1-52a9-4cdb-9eee-418248216f38",
   "metadata": {},
   "outputs": [
    {
     "name": "stdout",
     "output_type": "stream",
     "text": [
      "<class 'pandas.core.frame.DataFrame'>\n",
      "RangeIndex: 1850 entries, 0 to 1849\n",
      "Data columns (total 8 columns):\n",
      " #   Column            Non-Null Count  Dtype  \n",
      "---  ------            --------------  -----  \n",
      " 0   course_id         1850 non-null   int64  \n",
      " 1   course_type       1850 non-null   object \n",
      " 2   year              1850 non-null   int64  \n",
      " 3   enrollment_count  1850 non-null   int64  \n",
      " 4   pre_score         1850 non-null   object \n",
      " 5   post_score        1665 non-null   float64\n",
      " 6   pre_requirement   959 non-null    object \n",
      " 7   department        1850 non-null   object \n",
      "dtypes: float64(1), int64(3), object(4)\n",
      "memory usage: 115.8+ KB\n"
     ]
    }
   ],
   "source": [
    "df.info()"
   ]
  },
  {
   "cell_type": "code",
   "execution_count": 14,
   "id": "afd8478c-a0cc-4554-af52-a7c310b181a8",
   "metadata": {},
   "outputs": [
    {
     "data": {
      "text/html": [
       "<div>\n",
       "<style scoped>\n",
       "    .dataframe tbody tr th:only-of-type {\n",
       "        vertical-align: middle;\n",
       "    }\n",
       "\n",
       "    .dataframe tbody tr th {\n",
       "        vertical-align: top;\n",
       "    }\n",
       "\n",
       "    .dataframe thead th {\n",
       "        text-align: right;\n",
       "    }\n",
       "</style>\n",
       "<table border=\"1\" class=\"dataframe\">\n",
       "  <thead>\n",
       "    <tr style=\"text-align: right;\">\n",
       "      <th></th>\n",
       "      <th>course_id</th>\n",
       "      <th>year</th>\n",
       "      <th>enrollment_count</th>\n",
       "      <th>post_score</th>\n",
       "    </tr>\n",
       "  </thead>\n",
       "  <tbody>\n",
       "    <tr>\n",
       "      <th>count</th>\n",
       "      <td>1850.000000</td>\n",
       "      <td>1850.000000</td>\n",
       "      <td>1850.000000</td>\n",
       "      <td>1665.000000</td>\n",
       "    </tr>\n",
       "    <tr>\n",
       "      <th>mean</th>\n",
       "      <td>925.500000</td>\n",
       "      <td>2016.423784</td>\n",
       "      <td>231.565405</td>\n",
       "      <td>75.204805</td>\n",
       "    </tr>\n",
       "    <tr>\n",
       "      <th>std</th>\n",
       "      <td>534.193317</td>\n",
       "      <td>3.448278</td>\n",
       "      <td>36.987029</td>\n",
       "      <td>8.511981</td>\n",
       "    </tr>\n",
       "    <tr>\n",
       "      <th>min</th>\n",
       "      <td>1.000000</td>\n",
       "      <td>2011.000000</td>\n",
       "      <td>154.000000</td>\n",
       "      <td>51.000000</td>\n",
       "    </tr>\n",
       "    <tr>\n",
       "      <th>25%</th>\n",
       "      <td>463.250000</td>\n",
       "      <td>2013.000000</td>\n",
       "      <td>185.000000</td>\n",
       "      <td>69.000000</td>\n",
       "    </tr>\n",
       "    <tr>\n",
       "      <th>50%</th>\n",
       "      <td>925.500000</td>\n",
       "      <td>2016.000000</td>\n",
       "      <td>251.000000</td>\n",
       "      <td>75.000000</td>\n",
       "    </tr>\n",
       "    <tr>\n",
       "      <th>75%</th>\n",
       "      <td>1387.750000</td>\n",
       "      <td>2019.000000</td>\n",
       "      <td>261.000000</td>\n",
       "      <td>81.000000</td>\n",
       "    </tr>\n",
       "    <tr>\n",
       "      <th>max</th>\n",
       "      <td>1850.000000</td>\n",
       "      <td>2022.000000</td>\n",
       "      <td>267.000000</td>\n",
       "      <td>105.000000</td>\n",
       "    </tr>\n",
       "  </tbody>\n",
       "</table>\n",
       "</div>"
      ],
      "text/plain": [
       "         course_id         year  enrollment_count   post_score\n",
       "count  1850.000000  1850.000000       1850.000000  1665.000000\n",
       "mean    925.500000  2016.423784        231.565405    75.204805\n",
       "std     534.193317     3.448278         36.987029     8.511981\n",
       "min       1.000000  2011.000000        154.000000    51.000000\n",
       "25%     463.250000  2013.000000        185.000000    69.000000\n",
       "50%     925.500000  2016.000000        251.000000    75.000000\n",
       "75%    1387.750000  2019.000000        261.000000    81.000000\n",
       "max    1850.000000  2022.000000        267.000000   105.000000"
      ]
     },
     "execution_count": 14,
     "metadata": {},
     "output_type": "execute_result"
    }
   ],
   "source": [
    "df.describe()"
   ]
  },
  {
   "cell_type": "code",
   "execution_count": 15,
   "id": "1f80d6f1-2483-458f-8056-908c2286c102",
   "metadata": {},
   "outputs": [
    {
     "name": "stdout",
     "output_type": "stream",
     "text": [
      "course_id             0\n",
      "course_type           0\n",
      "year                  0\n",
      "enrollment_count      0\n",
      "pre_score             0\n",
      "post_score          185\n",
      "pre_requirement     891\n",
      "department            0\n",
      "dtype: int64\n"
     ]
    }
   ],
   "source": [
    "missing_values = df.isnull().sum()\n",
    "print(missing_values)\n"
   ]
  },
  {
   "cell_type": "code",
   "execution_count": 8,
   "id": "214b5f32-302c-4a10-a705-e5cac0192964",
   "metadata": {},
   "outputs": [],
   "source": [
    "df['post_score'].fillna(df['post_score'].mean(), inplace=True)\n"
   ]
  },
  {
   "cell_type": "code",
   "execution_count": 10,
   "id": "1fcb93ac-fc74-4fe1-b37b-2348069f3e62",
   "metadata": {},
   "outputs": [
    {
     "name": "stdout",
     "output_type": "stream",
     "text": [
      "      course_id course_type  year  enrollment_count  pre_score  post_score  \\\n",
      "0             1   classroom  2018               165      28.14        73.0   \n",
      "1             2   classroom  2020               175      79.68        86.0   \n",
      "2             3      online  2016               257      57.24        80.0   \n",
      "3             4      online  2013               251      97.67        75.0   \n",
      "4             5   classroom  2019               165      39.75        76.0   \n",
      "...         ...         ...   ...               ...        ...         ...   \n",
      "1845       1846   classroom  2018               155      60.01        81.0   \n",
      "1846       1847      online  2016               261      94.27        85.0   \n",
      "1847       1848      online  2011               257      76.00        81.0   \n",
      "1848       1849      online  2013               256      20.67        66.0   \n",
      "1849       1850      online  2017               256      17.57        72.0   \n",
      "\n",
      "     pre_requirement   department  \n",
      "0           Beginner      Science  \n",
      "1                NaN      Science  \n",
      "2                NaN  Mathematics  \n",
      "3           Beginner   Technology  \n",
      "4           Beginner      Science  \n",
      "...              ...          ...  \n",
      "1845    Intermediate      Science  \n",
      "1846             NaN   Technology  \n",
      "1847             NaN  Mathematics  \n",
      "1848             NaN         Math  \n",
      "1849             NaN         Math  \n",
      "\n",
      "[1850 rows x 8 columns]\n",
      "course_id             int64\n",
      "course_type          object\n",
      "year                  int64\n",
      "enrollment_count      int64\n",
      "pre_score           float64\n",
      "post_score          float64\n",
      "pre_requirement      object\n",
      "department           object\n",
      "dtype: object\n"
     ]
    }
   ],
   "source": [
    "df['pre_score'] = pd.to_numeric(df['pre_score'], errors='coerce')\n",
    "df['pre_score'].fillna(df['pre_score'].mean(), inplace=True)\n",
    "\n",
    "print(df)\n",
    "print(df.dtypes)\n",
    "\n"
   ]
  },
  {
   "cell_type": "code",
   "execution_count": 16,
   "id": "c9862aaf-594e-4bc4-9e49-1004951c97e9",
   "metadata": {},
   "outputs": [
    {
     "name": "stdout",
     "output_type": "stream",
     "text": [
      "course_id             0\n",
      "course_type           0\n",
      "year                  0\n",
      "enrollment_count      0\n",
      "pre_score             0\n",
      "post_score          185\n",
      "pre_requirement     891\n",
      "department            0\n",
      "dtype: int64\n"
     ]
    }
   ],
   "source": [
    "missing_values = df.isnull().sum()\n",
    "print(missing_values)\n"
   ]
  },
  {
   "cell_type": "code",
   "execution_count": 18,
   "id": "bc7ddc8c-8825-4671-8f81-6729208cb4ad",
   "metadata": {},
   "outputs": [],
   "source": [
    "df['post_score'].fillna(df['post_score'].mean(), inplace=True)"
   ]
  },
  {
   "cell_type": "code",
   "execution_count": 19,
   "id": "e07683f7-d3a8-427f-a698-4aca24518733",
   "metadata": {},
   "outputs": [
    {
     "name": "stdout",
     "output_type": "stream",
     "text": [
      "course_id             0\n",
      "course_type           0\n",
      "year                  0\n",
      "enrollment_count      0\n",
      "pre_score             0\n",
      "post_score            0\n",
      "pre_requirement     891\n",
      "department            0\n",
      "dtype: int64\n"
     ]
    }
   ],
   "source": [
    "missing_values = df.isnull().sum()\n",
    "print(missing_values)\n"
   ]
  },
  {
   "cell_type": "code",
   "execution_count": 20,
   "id": "76b9c891-94cd-4e34-91b0-042ca1751205",
   "metadata": {},
   "outputs": [
    {
     "name": "stdout",
     "output_type": "stream",
     "text": [
      "      course_id course_type  year  enrollment_count pre_score  post_score  \\\n",
      "0             1   classroom  2018               165     28.14        73.0   \n",
      "1             2   classroom  2020               175     79.68        86.0   \n",
      "2             3      online  2016               257     57.24        80.0   \n",
      "3             4      online  2013               251     97.67        75.0   \n",
      "4             5   classroom  2019               165     39.75        76.0   \n",
      "...         ...         ...   ...               ...       ...         ...   \n",
      "1845       1846   classroom  2018               155     60.01        81.0   \n",
      "1846       1847      online  2016               261     94.27        85.0   \n",
      "1847       1848      online  2011               257        76        81.0   \n",
      "1848       1849      online  2013               256     20.67        66.0   \n",
      "1849       1850      online  2017               256     17.57        72.0   \n",
      "\n",
      "     pre_requirement   department  \n",
      "0           Beginner      Science  \n",
      "1           Beginner      Science  \n",
      "2           Beginner  Mathematics  \n",
      "3           Beginner   Technology  \n",
      "4           Beginner      Science  \n",
      "...              ...          ...  \n",
      "1845    Intermediate      Science  \n",
      "1846        Beginner   Technology  \n",
      "1847        Beginner  Mathematics  \n",
      "1848        Beginner         Math  \n",
      "1849        Beginner         Math  \n",
      "\n",
      "[1850 rows x 8 columns]\n"
     ]
    }
   ],
   "source": [
    "df['pre_requirement'].fillna(df['pre_requirement'].mode()[0], inplace=True)\n",
    "df['pre_requirement'] = df['pre_requirement'].astype(str)\n",
    "print(df)"
   ]
  },
  {
   "cell_type": "code",
   "execution_count": 21,
   "id": "38db2662-b79d-4d61-bf46-ca7ed4b4bdc7",
   "metadata": {},
   "outputs": [
    {
     "name": "stdout",
     "output_type": "stream",
     "text": [
      "course_id           0\n",
      "course_type         0\n",
      "year                0\n",
      "enrollment_count    0\n",
      "pre_score           0\n",
      "post_score          0\n",
      "pre_requirement     0\n",
      "department          0\n",
      "dtype: int64\n"
     ]
    }
   ],
   "source": [
    "missing_values = df.isnull().sum()\n",
    "print(missing_values)\n"
   ]
  },
  {
   "cell_type": "code",
   "execution_count": 22,
   "id": "6a167c7c-48a6-4cfe-86c8-2dc4f3f17575",
   "metadata": {},
   "outputs": [
    {
     "name": "stdout",
     "output_type": "stream",
     "text": [
      "      course_id course_type  year  enrollment_count pre_score  post_score  \\\n",
      "0             1   classroom  2018               165     28.14        73.0   \n",
      "1             2   classroom  2020               175     79.68        86.0   \n",
      "2             3      online  2016               257     57.24        80.0   \n",
      "3             4      online  2013               251     97.67        75.0   \n",
      "4             5   classroom  2019               165     39.75        76.0   \n",
      "...         ...         ...   ...               ...       ...         ...   \n",
      "1845       1846   classroom  2018               155     60.01        81.0   \n",
      "1846       1847      online  2016               261     94.27        85.0   \n",
      "1847       1848      online  2011               257        76        81.0   \n",
      "1848       1849      online  2013               256     20.67        66.0   \n",
      "1849       1850      online  2017               256     17.57        72.0   \n",
      "\n",
      "       department  pre_requirement_Beginner  pre_requirement_Intermediate  \n",
      "0         Science                      True                         False  \n",
      "1         Science                      True                         False  \n",
      "2     Mathematics                      True                         False  \n",
      "3      Technology                      True                         False  \n",
      "4         Science                      True                         False  \n",
      "...           ...                       ...                           ...  \n",
      "1845      Science                     False                          True  \n",
      "1846   Technology                      True                         False  \n",
      "1847  Mathematics                      True                         False  \n",
      "1848         Math                      True                         False  \n",
      "1849         Math                      True                         False  \n",
      "\n",
      "[1850 rows x 9 columns]\n"
     ]
    }
   ],
   "source": [
    "df = pd.get_dummies(df, columns=['pre_requirement'])\n",
    "print(df)\n"
   ]
  },
  {
   "cell_type": "code",
   "execution_count": 23,
   "id": "6a8b86e9-f2cc-466e-9145-00e0c4e7242f",
   "metadata": {},
   "outputs": [
    {
     "name": "stdout",
     "output_type": "stream",
     "text": [
      "         course_id         year  enrollment_count   post_score\n",
      "count  1850.000000  1850.000000       1850.000000  1850.000000\n",
      "mean    925.500000  2016.423784        231.565405    75.204805\n",
      "std     534.193317     3.448278         36.987029     8.074932\n",
      "min       1.000000  2011.000000        154.000000    51.000000\n",
      "25%     463.250000  2013.000000        185.000000    70.000000\n",
      "50%     925.500000  2016.000000        251.000000    75.204805\n",
      "75%    1387.750000  2019.000000        261.000000    80.000000\n",
      "max    1850.000000  2022.000000        267.000000   105.000000\n"
     ]
    }
   ],
   "source": [
    "print(df.describe())\n"
   ]
  },
  {
   "cell_type": "code",
   "execution_count": 24,
   "id": "e6cae5a0-30fb-45a4-b579-3e9f94f8c9d0",
   "metadata": {},
   "outputs": [
    {
     "data": {
      "image/png": "[encoded data removed]",
      "text/plain": [
       "<Figure size 1200x500 with 2 Axes>"
      ]
     },
     "metadata": {},
     "output_type": "display_data"
    }
   ],
   "source": [
    "plt.figure(figsize=(12, 5))\n",
    "\n",
    "plt.subplot(1, 2, 1)\n",
    "plt.hist(df['pre_score'], bins=20, edgecolor='black', alpha=0.7)\n",
    "plt.title('Distribution of Pre Score')\n",
    "plt.xlabel('Pre Score')\n",
    "plt.ylabel('Frequency')\n",
    "\n",
    "plt.subplot(1, 2, 2)\n",
    "plt.hist(df['post_score'], bins=20, edgecolor='black', alpha=0.7)\n",
    "plt.title('Distribution of Post Score')\n",
    "plt.xlabel('Post Score')\n",
    "plt.ylabel('Frequency')\n",
    "\n",
    "plt.tight_layout()\n",
    "plt.show()"
   ]
  },
  {
   "cell_type": "code",
   "execution_count": 26,
   "id": "e36a2c3b-9406-448a-b9dc-64e96c86bbd5",
   "metadata": {},
   "outputs": [
    {
     "data": {
      "text/plain": [
       "<Figure size 1000x800 with 0 Axes>"
      ]
     },
     "metadata": {},
     "output_type": "display_data"
    },
    {
     "data": {
      "image/png": "[encoded data removed]",
      "text/plain": [
       "<Figure size 480x480 with 2 Axes>"
      ]
     },
     "metadata": {},
     "output_type": "display_data"
    }
   ],
   "source": [
    "numerical_df = df.select_dtypes(include=[np.number])\n",
    "\n",
    "corr_matrix = numerical_df.corr()\n",
    "\n",
    "plt.figure(figsize=(10, 8))\n",
    "cax = plt.matshow(corr_matrix, cmap='coolwarm')\n",
    "plt.colorbar(cax)\n",
    "plt.xticks(np.arange(len(corr_matrix.columns)), corr_matrix.columns, rotation=90)\n",
    "plt.yticks(np.arange(len(corr_matrix.columns)), corr_matrix.columns)\n",
    "plt.title('Correlation Matrix', pad=20)\n",
    "plt.show()\n"
   ]
  },
  {
   "cell_type": "code",
   "execution_count": 27,
   "id": "c7b7ddbb-e310-41c4-be1c-e45b2177c9b5",
   "metadata": {},
   "outputs": [
    {
     "data": {
      "image/png": "[encoded data removed]",
      "text/plain": [
       "<Figure size 800x600 with 1 Axes>"
      ]
     },
     "metadata": {},
     "output_type": "display_data"
    }
   ],
   "source": [
    "course_type_counts = df['course_type'].value_counts()\n",
    "\n",
    "plt.figure(figsize=(8, 6))\n",
    "course_type_counts.plot(kind='bar', color=['blue', 'orange'])\n",
    "plt.title('Enrollment by Course Type')\n",
    "plt.xlabel('Course Type')\n",
    "plt.ylabel('Number of Enrollments')\n",
    "plt.xticks(rotation=0)\n",
    "plt.show()\n"
   ]
  },
  {
   "cell_type": "code",
   "execution_count": 32,
   "id": "101b4ae0-8200-45a6-8a38-de4749ad31b3",
   "metadata": {},
   "outputs": [
    {
     "data": {
      "image/png": "[encoded data removed]",
      "text/plain": [
       "<Figure size 800x600 with 1 Axes>"
      ]
     },
     "metadata": {},
     "output_type": "display_data"
    }
   ],
   "source": [
    "year_counts = df['year'].value_counts()\n",
    "\n",
    "plt.figure(figsize=(8, 6))\n",
    "year_counts.sort_index().plot(kind='bar', color='skyblue')\n",
    "plt.title('Enrollment by Year')\n",
    "plt.xlabel('Year')\n",
    "plt.ylabel('Number of Enrollments')\n",
    "plt.xticks(rotation=0)\n",
    "plt.show()\n",
    "\n"
   ]
  },
  {
   "cell_type": "code",
   "execution_count": null,
   "id": "257fd11b-3422-4640-bd3e-374ad1e565de",
   "metadata": {},
   "outputs": [],
   "source": []
  }
 ],
 "metadata": {
  "kernelspec": {
   "display_name": "Python 3 (ipykernel)",
   "language": "python",
   "name": "python3"
  },
  "language_info": {
   "codemirror_mode": {
    "name": "ipython",
    "version": 3
   },
   "file_extension": ".py",
   "mimetype": "text/x-python",
   "name": "python",
   "nbconvert_exporter": "python",
   "pygments_lexer": "ipython3",
   "version": "3.11.7"
  }
 },
 "nbformat": 4,
 "nbformat_minor": 5
}
