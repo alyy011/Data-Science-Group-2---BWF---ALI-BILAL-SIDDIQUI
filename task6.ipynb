{
 "cells": [
  {
   "cell_type": "code",
   "execution_count": null,
   "id": "aa73edfe-87eb-4f28-bab4-9bbbf4f25f9a",
   "metadata": {},
   "outputs": [],
   "source": [
    "# CAR INVENTORY SYSTEM ( WAS MY LAB TASK , MADE FEW CHANGES IN IT )"
   ]
  },
  {
   "cell_type": "code",
   "execution_count": 2,
   "id": "a9247b75-f549-412b-8dbd-e3b1f0ff0e39",
   "metadata": {},
   "outputs": [
    {
     "name": "stdout",
     "output_type": "stream",
     "text": [
      "\n",
      "Car Inventory Management System\n",
      "1. Add Car Record\n",
      "2. Update Car Record\n",
      "3. View Car Records\n",
      "4. Delete Car Record\n",
      "5. Exit\n"
     ]
    },
    {
     "name": "stdin",
     "output_type": "stream",
     "text": [
      "Enter your choice:  1\n",
      "Enter Car ID:  1234\n",
      "Enter Car Make:  aaaa\n",
      "Enter Car Model:  ceee\n",
      "Enter Car Year:  2010\n",
      "Enter Car Price:  123456\n"
     ]
    },
    {
     "name": "stdout",
     "output_type": "stream",
     "text": [
      "Car record added successfully.\n",
      "\n",
      "Car Inventory Management System\n",
      "1. Add Car Record\n",
      "2. Update Car Record\n",
      "3. View Car Records\n",
      "4. Delete Car Record\n",
      "5. Exit\n"
     ]
    },
    {
     "name": "stdin",
     "output_type": "stream",
     "text": [
      "Enter your choice:  3\n"
     ]
    },
    {
     "name": "stdout",
     "output_type": "stream",
     "text": [
      "Car Inventory:\n",
      "['1234', 'aaaa', 'ceee', '2010', '123456']\n",
      "\n",
      "Car Inventory Management System\n",
      "1. Add Car Record\n",
      "2. Update Car Record\n",
      "3. View Car Records\n",
      "4. Delete Car Record\n",
      "5. Exit\n"
     ]
    },
    {
     "name": "stdin",
     "output_type": "stream",
     "text": [
      "Enter your choice:  2\n",
      "Enter Car ID to update:  1234\n",
      "Enter new Car Make:  abcd\n",
      "Enter new Car Model:  ddkss\n",
      "Enter new Car Year:  2001\n",
      "Enter new Car Price:  1245877\n"
     ]
    },
    {
     "name": "stdout",
     "output_type": "stream",
     "text": [
      "Car record updated successfully.\n",
      "\n",
      "Car Inventory Management System\n",
      "1. Add Car Record\n",
      "2. Update Car Record\n",
      "3. View Car Records\n",
      "4. Delete Car Record\n",
      "5. Exit\n"
     ]
    },
    {
     "name": "stdin",
     "output_type": "stream",
     "text": [
      "Enter your choice:  3\n"
     ]
    },
    {
     "name": "stdout",
     "output_type": "stream",
     "text": [
      "Car Inventory:\n",
      "['1234', 'abcd', 'ddkss', '2001', '1245877']\n",
      "\n",
      "Car Inventory Management System\n",
      "1. Add Car Record\n",
      "2. Update Car Record\n",
      "3. View Car Records\n",
      "4. Delete Car Record\n",
      "5. Exit\n"
     ]
    },
    {
     "name": "stdin",
     "output_type": "stream",
     "text": [
      "Enter your choice:  5\n"
     ]
    },
    {
     "name": "stdout",
     "output_type": "stream",
     "text": [
      "Exiting the system.\n"
     ]
    }
   ],
   "source": [
    "import csv\n",
    "import os\n",
    "\n",
    "file_path = 'car_inventory.csv'\n",
    "\n",
    "def add_car():\n",
    "    car_id = input(\"Enter Car ID: \")\n",
    "    make = input(\"Enter Car Make: \")\n",
    "    model = input(\"Enter Car Model: \")\n",
    "    year = input(\"Enter Car Year: \")\n",
    "    price = input(\"Enter Car Price: \")\n",
    "\n",
    "    with open(file_path, 'a', newline='') as file:\n",
    "        writer = csv.writer(file)\n",
    "        writer.writerow([car_id, make, model, year, price])\n",
    "    print(\"Car record added successfully.\")\n",
    "\n",
    "def update_car():\n",
    "    car_id = input(\"Enter Car ID to update: \")\n",
    "    temp_file = 'temp_inventory.csv'\n",
    "    updated = False\n",
    "\n",
    "    with open(file_path, 'r') as file, open(temp_file, 'w', newline='') as temp:\n",
    "        reader = csv.reader(file)\n",
    "        writer = csv.writer(temp)\n",
    "        for row in reader:\n",
    "            if row[0] == car_id:\n",
    "                make = input(\"Enter new Car Make: \")\n",
    "                model = input(\"Enter new Car Model: \")\n",
    "                year = input(\"Enter new Car Year: \")\n",
    "                price = input(\"Enter new Car Price: \")\n",
    "                writer.writerow([car_id, make, model, year, price])\n",
    "                updated = True\n",
    "            else:\n",
    "                writer.writerow(row)\n",
    "\n",
    "    os.remove(file_path)\n",
    "    os.rename(temp_file, file_path)\n",
    "\n",
    "    if updated:\n",
    "        print(\"Car record updated successfully.\")\n",
    "    else:\n",
    "        print(\"Car ID not found.\")\n",
    "\n",
    "def view_cars():\n",
    "    try:\n",
    "        with open(file_path, 'r') as file:\n",
    "            reader = csv.reader(file)\n",
    "            print(\"Car Inventory:\")\n",
    "            for row in reader:\n",
    "                print(row)\n",
    "    except FileNotFoundError:\n",
    "        print(\"No car inventory found.\")\n",
    "\n",
    "def delete_car():\n",
    "    car_id = input(\"Enter Car ID to delete: \")\n",
    "    temp_file = 'temp_inventory.csv'\n",
    "    deleted = False\n",
    "\n",
    "    with open(file_path, 'r') as file, open(temp_file, 'w', newline='') as temp:\n",
    "        reader = csv.reader(file)\n",
    "        writer = csv.writer(temp)\n",
    "        for row in reader:\n",
    "            if row[0] != car_id:\n",
    "                writer.writerow(row)\n",
    "            else:\n",
    "                deleted = True\n",
    "\n",
    "    os.remove(file_path)\n",
    "    os.rename(temp_file, file_path)\n",
    "\n",
    "    if deleted:\n",
    "        print(\"Car record deleted successfully.\")\n",
    "    else:\n",
    "        print(\"Car ID not found.\")\n",
    "\n",
    "def main():\n",
    "    while True:\n",
    "        print(\"\\nCar Inventory Management System\")\n",
    "        print(\"1. Add Car Record\")\n",
    "        print(\"2. Update Car Record\")\n",
    "        print(\"3. View Car Records\")\n",
    "        print(\"4. Delete Car Record\")\n",
    "        print(\"5. Exit\")\n",
    "        \n",
    "        choice = input(\"Enter your choice: \")\n",
    "        if choice == '1':\n",
    "            add_car()\n",
    "        elif choice == '2':\n",
    "            update_car()\n",
    "        elif choice == '3':\n",
    "            view_cars()\n",
    "        elif choice == '4':\n",
    "            delete_car()\n",
    "        elif choice == '5':\n",
    "            print(\"Exiting the system.\")\n",
    "            break\n",
    "        else:\n",
    "            print(\"Invalid choice. Please try again.\")\n",
    "\n",
    "if __name__ == \"__main__\":\n",
    "    main()\n"
   ]
  },
  {
   "cell_type": "code",
   "execution_count": null,
   "id": "fd818a10-be15-4fb6-81d5-535dc08eb621",
   "metadata": {},
   "outputs": [],
   "source": []
  }
 ],
 "metadata": {
  "kernelspec": {
   "display_name": "Python 3 (ipykernel)",
   "language": "python",
   "name": "python3"
  },
  "language_info": {
   "codemirror_mode": {
    "name": "ipython",
    "version": 3
   },
   "file_extension": ".py",
   "mimetype": "text/x-python",
   "name": "python",
   "nbconvert_exporter": "python",
   "pygments_lexer": "ipython3",
   "version": "3.11.7"
  }
 },
 "nbformat": 4,
 "nbformat_minor": 5
}
