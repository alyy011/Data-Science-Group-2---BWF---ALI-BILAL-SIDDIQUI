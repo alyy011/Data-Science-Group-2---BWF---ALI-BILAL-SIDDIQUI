{
 "cells": [
  {
   "cell_type": "markdown",
   "id": "88939ccd-0263-4c31-9e59-1b2328b150bd",
   "metadata": {},
   "source": [
    "Password Strength Checker"
   ]
  },
  {
   "cell_type": "code",
   "execution_count": 8,
   "id": "3bf1858e-1ef6-43e1-84cc-49aad1b32d62",
   "metadata": {},
   "outputs": [
    {
     "name": "stdin",
     "output_type": "stream",
     "text": [
      "Enter your password:  alii12A*\n"
     ]
    },
    {
     "name": "stdout",
     "output_type": "stream",
     "text": [
      "Password has number: True\n",
      "Password has special characters: True\n",
      "Password has uppercase letters: True\n",
      "Password has lowercase letters: True\n",
      "Password length is sufficient: True\n",
      "Your password is very strong!\n"
     ]
    }
   ],
   "source": [
    "def check_password(password):\n",
    "    has_number = False\n",
    "    has_special_char = False\n",
    "    has_upper = False\n",
    "    has_lower = False\n",
    "\n",
    "    for char in password:\n",
    "        if char.isdigit():\n",
    "            has_number = True\n",
    "        elif char.isupper():\n",
    "            has_upper = True\n",
    "        elif char.islower():\n",
    "            has_lower = True\n",
    "        elif not char.isalnum():\n",
    "            has_special_char = True\n",
    "\n",
    "    length_ok = len(password) >= 8\n",
    "    return has_number, has_special_char, has_upper, has_lower, length_ok\n",
    "\n",
    "\n",
    "password = input(\"Enter your password: \")\n",
    "\n",
    "has_number, has_special_char, has_upper, has_lower, length_ok = check_password(password)\n",
    "\n",
    "print(\"Password has number:\", has_number)\n",
    "print(\"Password has special characters:\", has_special_char)\n",
    "print(\"Password has uppercase letters:\", has_upper)\n",
    "print(\"Password has lowercase letters:\", has_lower)\n",
    "print(\"Password length is sufficient:\", length_ok)\n",
    "\n",
    "if has_number and has_special_char and has_upper and has_lower and length_ok:\n",
    "    print(\"Your password is very strong!\")\n",
    "elif has_number and has_special_char and has_upper and has_lower and len(password) >= 6:\n",
    "    print(\"Your password is strong.\")\n",
    "elif (has_number or has_special_char or has_upper or has_lower) and length_ok:\n",
    "    print(\"Your password is moderate.\")\n",
    "else:\n",
    "    print(\"Your password is weak. Consider adding numbers, special characters, uppercase and lowercase letters, and ensuring it is at least 8 characters long.\")\n"
   ]
  },
  {
   "cell_type": "code",
   "execution_count": 3,
   "id": "6bb53fae-a1a4-46bd-ba18-cc597706a119",
   "metadata": {},
   "outputs": [],
   "source": []
  },
  {
   "cell_type": "code",
   "execution_count": null,
   "id": "5f08821d-a22e-483e-9a58-12e6a436eba7",
   "metadata": {},
   "outputs": [],
   "source": []
  }
 ],
 "metadata": {
  "kernelspec": {
   "display_name": "Python 3 (ipykernel)",
   "language": "python",
   "name": "python3"
  },
  "language_info": {
   "codemirror_mode": {
    "name": "ipython",
    "version": 3
   },
   "file_extension": ".py",
   "mimetype": "text/x-python",
   "name": "python",
   "nbconvert_exporter": "python",
   "pygments_lexer": "ipython3",
   "version": "3.11.7"
  }
 },
 "nbformat": 4,
 "nbformat_minor": 5
}
