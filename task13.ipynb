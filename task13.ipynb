{
 "cells": [
  {
   "cell_type": "code",
   "execution_count": 1,
   "id": "bafb60a6-485e-4ed1-b46f-2a100d854720",
   "metadata": {},
   "outputs": [],
   "source": [
    "import pandas as pd\n",
    "import numpy as np\n",
    "df = pd.read_csv('customers-100.csv')"
   ]
  },
  {
   "cell_type": "code",
   "execution_count": 2,
   "id": "2f9d7206-3255-4d58-8949-0887fa82aaca",
   "metadata": {},
   "outputs": [
    {
     "name": "stdout",
     "output_type": "stream",
     "text": [
      "First five rows:\n",
      "   Index      Customer Id First Name Last Name  \\\n",
      "0      1  DD37Cf93aecA6Dc     Sheryl    Baxter   \n",
      "1      2  1Ef7b82A4CAAD10    Preston    Lozano   \n",
      "2      3  6F94879bDAfE5a6        Roy     Berry   \n",
      "3      4  5Cef8BFA16c5e3c      Linda     Olsen   \n",
      "4      5  053d585Ab6b3159     Joanna    Bender   \n",
      "\n",
      "                           Company               City  \\\n",
      "0                  Rasmussen Group       East Leonard   \n",
      "1                      Vega-Gentry  East Jimmychester   \n",
      "2                    Murillo-Perry      Isabelborough   \n",
      "3  Dominguez, Mcmillan and Donovan         Bensonview   \n",
      "4         Martin, Lang and Andrade     West Priscilla   \n",
      "\n",
      "                      Country                 Phone 1                Phone 2  \\\n",
      "0                       Chile            229.077.5154       397.884.0519x718   \n",
      "1                    Djibouti              5153435776       686-620-1820x944   \n",
      "2         Antigua and Barbuda         +1-539-402-0259    (496)978-3969x58947   \n",
      "3          Dominican Republic  001-808-617-6467x12895        +1-813-324-8756   \n",
      "4  Slovakia (Slovak Republic)  001-234-203-0635x76146  001-199-446-3860x3486   \n",
      "\n",
      "                         Email Subscription Date                      Website  \n",
      "0     zunigavanessa@smith.info        2020-08-24   http://www.stephenson.com/  \n",
      "1              vmata@colon.com        2021-04-23        http://www.hobbs.com/  \n",
      "2          beckycarr@hogan.com        2020-03-25     http://www.lawrence.com/  \n",
      "3  stanleyblackwell@benson.org        2020-06-02   http://www.good-lyons.com/  \n",
      "4      colinalvarado@miles.net        2021-04-17  https://goodwin-ingram.com/  \n",
      "\n",
      "Last five rows:\n",
      "    Index      Customer Id First Name Last Name                Company  \\\n",
      "95     96  cb8E23e48d22Eae       Karl     Greer              Carey LLC   \n",
      "96     97  CeD220bdAaCfaDf       Lynn  Atkinson  Ware, Burns and Oneal   \n",
      "97     98  28CDbC0dFe4b1Db       Fred    Guerra          Schmitt-Jones   \n",
      "98     99  c23d1D9EE8DEB0A     Yvonne    Farmer     Fitzgerald-Harrell   \n",
      "99    100  2354a0E336A91A1   Clarence    Haynes     Le, Nash and Cross   \n",
      "\n",
      "               City          Country               Phone 1  \\\n",
      "95     East Richard           Guyana   (188)169-1674x58692   \n",
      "96     New Bradview        Sri Lanka       +1-846-706-2218   \n",
      "97       Ortegaland  Solomon Islands  +1-753-067-8419x7170   \n",
      "98  Lake Elijahview            Aruba         (530)311-9786   \n",
      "99        Judymouth         Honduras         (753)813-6941   \n",
      "\n",
      "                   Phone 2                           Email Subscription Date  \\\n",
      "95    001-841-293-3519x614                hhart@jensen.com        2022-01-30   \n",
      "96            605.413.3198               vkemp@ferrell.com        2021-07-10   \n",
      "97   +1-632-666-7507x92121                swagner@kane.org        2021-09-18   \n",
      "98  001-869-452-0943x12424  mccarthystephen@horn-green.biz        2021-08-11   \n",
      "99            783.639.1472          colleen91@faulkner.biz        2020-03-11   \n",
      "\n",
      "                              Website  \n",
      "95            http://hayes-perez.com/  \n",
      "96         https://novak-allison.com/  \n",
      "97              https://www.ross.com/  \n",
      "98               http://watkins.info/  \n",
      "99  http://www.hatfield-saunders.net/  \n"
     ]
    }
   ],
   "source": [
    "# Display the first and last five rows of the DataFrame\n",
    "print(\"First five rows:\")\n",
    "print(df.head())\n",
    "print(\"\\nLast five rows:\")\n",
    "print(df.tail())"
   ]
  },
  {
   "cell_type": "code",
   "execution_count": 3,
   "id": "f5ab34b7-3ca6-4213-81a7-a262bfad82f9",
   "metadata": {},
   "outputs": [],
   "source": [
    "# Set a specific column as the index of the DataFrame\n",
    "df.set_index('Email', inplace=True)"
   ]
  },
  {
   "cell_type": "code",
   "execution_count": 4,
   "id": "8e16472a-9d8d-4c48-9999-ee115b4be161",
   "metadata": {},
   "outputs": [
    {
     "name": "stdout",
     "output_type": "stream",
     "text": [
      "\n",
      "Specific column values:\n",
      "Email\n",
      "zunigavanessa@smith.info            Sheryl\n",
      "vmata@colon.com                    Preston\n",
      "beckycarr@hogan.com                    Roy\n",
      "stanleyblackwell@benson.org          Linda\n",
      "colinalvarado@miles.net             Joanna\n",
      "                                    ...   \n",
      "hhart@jensen.com                      Karl\n",
      "vkemp@ferrell.com                     Lynn\n",
      "swagner@kane.org                      Fred\n",
      "mccarthystephen@horn-green.biz      Yvonne\n",
      "colleen91@faulkner.biz            Clarence\n",
      "Name: First Name, Length: 100, dtype: object\n"
     ]
    }
   ],
   "source": [
    "# Select a specific column and display its values\n",
    "print(df['First Name'])"
   ]
  },
  {
   "cell_type": "code",
   "execution_count": 5,
   "id": "52f8c8b2-13fd-4255-ad69-48009c874bf5",
   "metadata": {},
   "outputs": [
    {
     "name": "stdout",
     "output_type": "stream",
     "text": [
      "\n",
      "Multiple columns:\n",
      "                               First Name                     Country\n",
      "Email                                                                \n",
      "zunigavanessa@smith.info           Sheryl                       Chile\n",
      "vmata@colon.com                   Preston                    Djibouti\n",
      "beckycarr@hogan.com                   Roy         Antigua and Barbuda\n",
      "stanleyblackwell@benson.org         Linda          Dominican Republic\n",
      "colinalvarado@miles.net            Joanna  Slovakia (Slovak Republic)\n",
      "...                                   ...                         ...\n",
      "hhart@jensen.com                     Karl                      Guyana\n",
      "vkemp@ferrell.com                    Lynn                   Sri Lanka\n",
      "swagner@kane.org                     Fred             Solomon Islands\n",
      "mccarthystephen@horn-green.biz     Yvonne                       Aruba\n",
      "colleen91@faulkner.biz           Clarence                    Honduras\n",
      "\n",
      "[100 rows x 2 columns]\n"
     ]
    }
   ],
   "source": [
    "# Select multiple columns and display the resulting DataFrame\n",
    "print(\"\\nMultiple columns:\")\n",
    "print(df[['First Name', 'Country']])"
   ]
  },
  {
   "cell_type": "code",
   "execution_count": 23,
   "id": "e3acff34-23b6-4d05-ba79-d79590ca4e53",
   "metadata": {},
   "outputs": [
    {
     "name": "stdout",
     "output_type": "stream",
     "text": [
      "                             Index      Customer Id First Name Last Name  \\\n",
      "Email                                                                      \n",
      "zunigavanessa@smith.info         1  DD37Cf93aecA6Dc     Sheryl    Baxter   \n",
      "vmata@colon.com                  2  1Ef7b82A4CAAD10    Preston    Lozano   \n",
      "beckycarr@hogan.com              3  6F94879bDAfE5a6        Roy     Berry   \n",
      "stanleyblackwell@benson.org      4  5Cef8BFA16c5e3c      Linda     Olsen   \n",
      "colinalvarado@miles.net          5  053d585Ab6b3159     Joanna    Bender   \n",
      "louis27@gilbert.com              6  2d08FB17EE273F4      Aimee     Downs   \n",
      "\n",
      "                                                     Company  \\\n",
      "Email                                                          \n",
      "zunigavanessa@smith.info                     Rasmussen Group   \n",
      "vmata@colon.com                                  Vega-Gentry   \n",
      "beckycarr@hogan.com                            Murillo-Perry   \n",
      "stanleyblackwell@benson.org  Dominguez, Mcmillan and Donovan   \n",
      "colinalvarado@miles.net             Martin, Lang and Andrade   \n",
      "louis27@gilbert.com                             Steele Group   \n",
      "\n",
      "                                          City                     Country  \\\n",
      "Email                                                                        \n",
      "zunigavanessa@smith.info          East Leonard                       Chile   \n",
      "vmata@colon.com              East Jimmychester                    Djibouti   \n",
      "beckycarr@hogan.com              Isabelborough         Antigua and Barbuda   \n",
      "stanleyblackwell@benson.org         Bensonview          Dominican Republic   \n",
      "colinalvarado@miles.net         West Priscilla  Slovakia (Slovak Republic)   \n",
      "louis27@gilbert.com              Chavezborough      Bosnia and Herzegovina   \n",
      "\n",
      "                                            Phone 1                Phone 2  \\\n",
      "Email                                                                        \n",
      "zunigavanessa@smith.info               229.077.5154       397.884.0519x718   \n",
      "vmata@colon.com                          5153435776       686-620-1820x944   \n",
      "beckycarr@hogan.com                 +1-539-402-0259    (496)978-3969x58947   \n",
      "stanleyblackwell@benson.org  001-808-617-6467x12895        +1-813-324-8756   \n",
      "colinalvarado@miles.net      001-234-203-0635x76146  001-199-446-3860x3486   \n",
      "louis27@gilbert.com             (283)437-3886x88321           999-728-1637   \n",
      "\n",
      "                            Subscription Date                      Website  \\\n",
      "Email                                                                        \n",
      "zunigavanessa@smith.info           2020-08-24   http://www.stephenson.com/   \n",
      "vmata@colon.com                    2021-04-23        http://www.hobbs.com/   \n",
      "beckycarr@hogan.com                2020-03-25     http://www.lawrence.com/   \n",
      "stanleyblackwell@benson.org        2020-06-02   http://www.good-lyons.com/   \n",
      "colinalvarado@miles.net            2021-04-17  https://goodwin-ingram.com/   \n",
      "louis27@gilbert.com                2020-02-25       http://www.berger.net/   \n",
      "\n",
      "                             Subscription Year  \n",
      "Email                                           \n",
      "zunigavanessa@smith.info                  2020  \n",
      "vmata@colon.com                           2021  \n",
      "beckycarr@hogan.com                       2020  \n",
      "stanleyblackwell@benson.org               2020  \n",
      "colinalvarado@miles.net                   2021  \n",
      "louis27@gilbert.com                       2020  \n"
     ]
    }
   ],
   "source": [
    "# Select a subset of rows using integer indices with .iloc\n",
    "print(df.iloc[0:6])"
   ]
  },
  {
   "cell_type": "code",
   "execution_count": 7,
   "id": "3b423e06-f877-4e51-85f5-51eec36248d2",
   "metadata": {},
   "outputs": [
    {
     "name": "stdout",
     "output_type": "stream",
     "text": [
      "                            First Name Last Name  \\\n",
      "Email                                              \n",
      "zunigavanessa@smith.info        Sheryl    Baxter   \n",
      "vmata@colon.com                Preston    Lozano   \n",
      "beckycarr@hogan.com                Roy     Berry   \n",
      "stanleyblackwell@benson.org      Linda     Olsen   \n",
      "colinalvarado@miles.net         Joanna    Bender   \n",
      "louis27@gilbert.com              Aimee     Downs   \n",
      "\n",
      "                                                     Company  \n",
      "Email                                                         \n",
      "zunigavanessa@smith.info                     Rasmussen Group  \n",
      "vmata@colon.com                                  Vega-Gentry  \n",
      "beckycarr@hogan.com                            Murillo-Perry  \n",
      "stanleyblackwell@benson.org  Dominguez, Mcmillan and Donovan  \n",
      "colinalvarado@miles.net             Martin, Lang and Andrade  \n",
      "louis27@gilbert.com                             Steele Group  \n"
     ]
    }
   ],
   "source": [
    "#Select a subset of rows and columns using the .iloc method.\n",
    "print(df.iloc[0:6, 2:5])\n"
   ]
  },
  {
   "cell_type": "code",
   "execution_count": 8,
   "id": "792879eb-0913-44ba-8b38-b9e8004f0d02",
   "metadata": {},
   "outputs": [
    {
     "name": "stdout",
     "output_type": "stream",
     "text": [
      "                         Index      Customer Id First Name Last Name  \\\n",
      "Email                                                                  \n",
      "mariokhan@ryan-pope.org      9  C2dE4dEEc489ae0     Sheryl    Meyers   \n",
      "\n",
      "                                Company          City Country  \\\n",
      "Email                                                           \n",
      "mariokhan@ryan-pope.org  Browning-Simon  Robersonstad  Cyprus   \n",
      "\n",
      "                                   Phone 1              Phone 2  \\\n",
      "Email                                                             \n",
      "mariokhan@ryan-pope.org  854-138-4911x5772  +1-448-910-2276x729   \n",
      "\n",
      "                        Subscription Date                   Website  \n",
      "Email                                                                \n",
      "mariokhan@ryan-pope.org        2020-01-13  https://www.bullock.net/  \n"
     ]
    }
   ],
   "source": [
    "# Filter rows based on a condition\n",
    "print(df[df['Country'] == 'Cyprus'])"
   ]
  },
  {
   "cell_type": "code",
   "execution_count": 12,
   "id": "1ea591b2-5d2e-4572-823b-10d398aabd95",
   "metadata": {},
   "outputs": [
    {
     "name": "stdout",
     "output_type": "stream",
     "text": [
      "Country\n",
      "Albania                2021.0\n",
      "Algeria                2021.0\n",
      "Anguilla               2021.0\n",
      "Antigua and Barbuda    2020.0\n",
      "Aruba                  2021.0\n",
      "                        ...  \n",
      "Uzbekistan             2020.0\n",
      "Vietnam                2020.0\n",
      "Western Sahara         2021.0\n",
      "Yemen                  2021.0\n",
      "Zimbabwe               2020.5\n",
      "Name: Subscription Year, Length: 85, dtype: float64\n"
     ]
    }
   ],
   "source": [
    "# Group the DataFrame by a specific column and calculate the mean of each group\n",
    "# Adding a hypothetical numerical column 'Subscription Year' for demonstration\n",
    "df['Subscription Year'] = pd.to_datetime(df['Subscription Date']).dt.year\n",
    "group_by_country_mean = df.groupby('Country')['Subscription Year'].mean()\n",
    "print(group_by_country_mean)\n"
   ]
  },
  {
   "cell_type": "code",
   "execution_count": 13,
   "id": "18209d52-d160-42bc-8c0c-d601f69e0ceb",
   "metadata": {},
   "outputs": [
    {
     "name": "stdout",
     "output_type": "stream",
     "text": [
      "Country              City             \n",
      "Albania              Bryanville           2021\n",
      "Algeria              South Jasmine        2021\n",
      "Anguilla             South Lonnie         2021\n",
      "Antigua and Barbuda  Isabelborough        2020\n",
      "Aruba                Lake Elijahview      2021\n",
      "                                          ... \n",
      "Vietnam              East Andrea          2020\n",
      "Western Sahara       West Adriennestad    2021\n",
      "Yemen                Thomasfurt           2021\n",
      "Zimbabwe             East Summerstad      2020\n",
      "                     West Samuel          2021\n",
      "Name: Subscription Year, Length: 100, dtype: int32\n"
     ]
    }
   ],
   "source": [
    "#Group the DataFrame by multiple columns and calculate the sum of each group\n",
    "group_by_country_city_sum = df.groupby(['Country', 'City'])['Subscription Year'].sum()\n",
    "print(group_by_country_city_sum)\n",
    "\n"
   ]
  },
  {
   "cell_type": "code",
   "execution_count": 15,
   "id": "c39be363-4053-4719-8897-7e8c18d0965c",
   "metadata": {},
   "outputs": [
    {
     "name": "stdout",
     "output_type": "stream",
     "text": [
      "                       mean  count\n",
      "Country                           \n",
      "Albania              2021.0      1\n",
      "Algeria              2021.0      1\n",
      "Anguilla             2021.0      1\n",
      "Antigua and Barbuda  2020.0      1\n",
      "Aruba                2021.0      1\n",
      "...                     ...    ...\n",
      "Uzbekistan           2020.0      1\n",
      "Vietnam              2020.0      1\n",
      "Western Sahara       2021.0      1\n",
      "Yemen                2021.0      1\n",
      "Zimbabwe             2020.5      2\n",
      "\n",
      "[85 rows x 2 columns]\n"
     ]
    }
   ],
   "source": [
    "#Use the agg method to apply multiple aggregation functions to grouped data\n",
    "agg_functions = df.groupby('Country')['Subscription Year'].agg(['mean', 'count'])\n",
    "print(agg_functions)\n"
   ]
  },
  {
   "cell_type": "code",
   "execution_count": 16,
   "id": "d20f3097-d9f7-470b-8845-34bbe47f0b52",
   "metadata": {},
   "outputs": [
    {
     "name": "stdout",
     "output_type": "stream",
     "text": [
      "Country\n",
      "Albania                1\n",
      "Algeria                1\n",
      "Anguilla               1\n",
      "Antigua and Barbuda    1\n",
      "Aruba                  1\n",
      "                      ..\n",
      "Uzbekistan             1\n",
      "Vietnam                1\n",
      "Western Sahara         1\n",
      "Yemen                  1\n",
      "Zimbabwe               2\n",
      "Length: 85, dtype: int64\n"
     ]
    }
   ],
   "source": [
    "# 4. Calculate the size of each group\n",
    "group_size = df.groupby('Country').size()\n",
    "print(group_size)\n"
   ]
  },
  {
   "cell_type": "code",
   "execution_count": 17,
   "id": "8736fa04-8f14-4ed1-a829-fec7b17aa2dd",
   "metadata": {},
   "outputs": [
    {
     "name": "stdout",
     "output_type": "stream",
     "text": [
      "                          Index      Customer Id First Name Last Name  \\\n",
      "Email                                                                   \n",
      "zunigavanessa@smith.info      1  DD37Cf93aecA6Dc     Sheryl    Baxter   \n",
      "\n",
      "                                  Company          City Country       Phone 1  \\\n",
      "Email                                                                           \n",
      "zunigavanessa@smith.info  Rasmussen Group  East Leonard   Chile  229.077.5154   \n",
      "\n",
      "                                   Phone 2 Subscription Date  \\\n",
      "Email                                                          \n",
      "zunigavanessa@smith.info  397.884.0519x718        2020-08-24   \n",
      "\n",
      "                                             Website  Subscription Year  \n",
      "Email                                                                    \n",
      "zunigavanessa@smith.info  http://www.stephenson.com/               2020  \n"
     ]
    }
   ],
   "source": [
    "# 5. Select rows based on multiple conditions\n",
    "selected_rows = df[(df['Country'] == 'Chile') & (df['City'].str.contains('East'))]\n",
    "print(selected_rows)"
   ]
  },
  {
   "cell_type": "code",
   "execution_count": 18,
   "id": "cb929cd1-500b-49f1-8691-200b0bc05881",
   "metadata": {},
   "outputs": [
    {
     "name": "stdout",
     "output_type": "stream",
     "text": [
      "                          Index      Customer Id First Name Last Name  \\\n",
      "Email                                                                   \n",
      "zunigavanessa@smith.info      1  DD37Cf93aecA6Dc     Sheryl    Baxter   \n",
      "\n",
      "                                  Company          City Country       Phone 1  \\\n",
      "Email                                                                           \n",
      "zunigavanessa@smith.info  Rasmussen Group  East Leonard   Chile  229.077.5154   \n",
      "\n",
      "                                   Phone 2 Subscription Date  \\\n",
      "Email                                                          \n",
      "zunigavanessa@smith.info  397.884.0519x718        2020-08-24   \n",
      "\n",
      "                                             Website  Subscription Year  \n",
      "Email                                                                    \n",
      "zunigavanessa@smith.info  http://www.stephenson.com/               2020  \n"
     ]
    }
   ],
   "source": [
    "#Use the query method to filter rows\n",
    "filtered_rows_query = df.query('Country == \"Chile\"')\n",
    "print(filtered_rows_query)"
   ]
  },
  {
   "cell_type": "code",
   "execution_count": 19,
   "id": "407f5d99-4be9-4f95-aa8f-2500fa284335",
   "metadata": {},
   "outputs": [
    {
     "name": "stdout",
     "output_type": "stream",
     "text": [
      "                          Index      Customer Id First Name Last Name  \\\n",
      "Email                                                                   \n",
      "zunigavanessa@smith.info      1  DD37Cf93aecA6Dc     Sheryl    Baxter   \n",
      "vmata@colon.com               2  1Ef7b82A4CAAD10    Preston    Lozano   \n",
      "\n",
      "                                  Company               City   Country  \\\n",
      "Email                                                                    \n",
      "zunigavanessa@smith.info  Rasmussen Group       East Leonard     Chile   \n",
      "vmata@colon.com               Vega-Gentry  East Jimmychester  Djibouti   \n",
      "\n",
      "                               Phone 1           Phone 2 Subscription Date  \\\n",
      "Email                                                                        \n",
      "zunigavanessa@smith.info  229.077.5154  397.884.0519x718        2020-08-24   \n",
      "vmata@colon.com             5153435776  686-620-1820x944        2021-04-23   \n",
      "\n",
      "                                             Website  Subscription Year  \n",
      "Email                                                                    \n",
      "zunigavanessa@smith.info  http://www.stephenson.com/               2020  \n",
      "vmata@colon.com                http://www.hobbs.com/               2021  \n"
     ]
    }
   ],
   "source": [
    "#Use isin to filter rows based on a list of values\n",
    "filtered_rows_isin = df[df['Country'].isin(['Chile', 'Djibouti'])]\n",
    "print(filtered_rows_isin)\n"
   ]
  },
  {
   "cell_type": "code",
   "execution_count": 22,
   "id": "b0b7c16d-93ac-4f2b-a05a-c0749e035bf2",
   "metadata": {},
   "outputs": [
    {
     "name": "stdout",
     "output_type": "stream",
     "text": [
      "                            FirstName LastName                 CountryName\n",
      "Email                                                                     \n",
      "zunigavanessa@smith.info       Sheryl   Baxter                       Chile\n",
      "vmata@colon.com               Preston   Lozano                    Djibouti\n",
      "beckycarr@hogan.com               Roy    Berry         Antigua and Barbuda\n",
      "stanleyblackwell@benson.org     Linda    Olsen          Dominican Republic\n",
      "colinalvarado@miles.net        Joanna   Bender  Slovakia (Slovak Republic)\n"
     ]
    }
   ],
   "source": [
    "#Select specific columns and rename them\n",
    "selected_columns_renamed = df[['First Name', 'Last Name', 'Country']].rename(\n",
    "    columns={'First Name': 'FirstName', 'Last Name': 'LastName', 'Country': 'CountryName'}\n",
    ")\n",
    "\n",
    "print(selected_columns_renamed.head())\n"
   ]
  },
  {
   "cell_type": "code",
   "execution_count": null,
   "id": "47cece02-9a4c-4f55-9472-e3ffa5da4234",
   "metadata": {},
   "outputs": [],
   "source": []
  }
 ],
 "metadata": {
  "kernelspec": {
   "display_name": "Python 3 (ipykernel)",
   "language": "python",
   "name": "python3"
  },
  "language_info": {
   "codemirror_mode": {
    "name": "ipython",
    "version": 3
   },
   "file_extension": ".py",
   "mimetype": "text/x-python",
   "name": "python",
   "nbconvert_exporter": "python",
   "pygments_lexer": "ipython3",
   "version": "3.11.7"
  }
 },
 "nbformat": 4,
 "nbformat_minor": 5
}
