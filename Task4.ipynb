{
 "cells": [
  {
   "cell_type": "markdown",
   "id": "8b2e6ddf-6ce2-4dfe-aa78-cb71dacdb5e4",
   "metadata": {},
   "source": [
    "Expense Calculator"
   ]
  },
  {
   "cell_type": "code",
   "execution_count": 7,
   "id": "65210f49-ba3e-4636-9842-b210dc586325",
   "metadata": {},
   "outputs": [
    {
     "name": "stdin",
     "output_type": "stream",
     "text": [
      "Enter your income:  20000\n",
      "Enter your monthly transportation cost:  3000\n",
      "Enter your monthly grocery cost:  4000\n",
      "Enter your monthly gym fee:  2500\n"
     ]
    }
   ],
   "source": [
    "income = float(input(\"Enter your income: \"))\n",
    "transportation_cost = float(input(\"Enter your monthly transportation cost: \"))\n",
    "grocery_cost = float(input(\"Enter your monthly grocery cost: \"))\n",
    "gym_fees = float(input(\"Enter your monthly gym fee: \"))"
   ]
  },
  {
   "cell_type": "code",
   "execution_count": 8,
   "id": "0d7f6879-4ecb-4e6b-8697-2dda1b528816",
   "metadata": {},
   "outputs": [
    {
     "name": "stdout",
     "output_type": "stream",
     "text": [
      "Total expenses are:  9500.0\n",
      "Total savings are:  10500.0\n"
     ]
    }
   ],
   "source": [
    "expenses = transportation_cost + grocery_cost + gym_fees\n",
    "savings = income - expenses\n",
    "\n",
    "print(\"Total expenses are: \", expenses)\n",
    "if savings > 0:\n",
    "    print(\"Total savings are: \", savings)\n",
    "else:\n",
    "    print(\"You spent more than you earned\")\n"
   ]
  },
  {
   "cell_type": "code",
   "execution_count": null,
   "id": "173d5c1d-8f4d-447c-82df-587cf322742f",
   "metadata": {},
   "outputs": [],
   "source": []
  }
 ],
 "metadata": {
  "kernelspec": {
   "display_name": "Python 3 (ipykernel)",
   "language": "python",
   "name": "python3"
  },
  "language_info": {
   "codemirror_mode": {
    "name": "ipython",
    "version": 3
   },
   "file_extension": ".py",
   "mimetype": "text/x-python",
   "name": "python",
   "nbconvert_exporter": "python",
   "pygments_lexer": "ipython3",
   "version": "3.11.7"
  }
 },
 "nbformat": 4,
 "nbformat_minor": 5
}
