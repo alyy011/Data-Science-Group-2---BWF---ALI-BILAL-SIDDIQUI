{
 "cells": [
  {
   "cell_type": "code",
   "execution_count": 1,
   "id": "d748401a-87a3-412e-8734-bfd3e0aa1a51",
   "metadata": {},
   "outputs": [
    {
     "name": "stdout",
     "output_type": "stream",
     "text": [
      "[[ 8  9]\n",
      " [14 15]]\n"
     ]
    }
   ],
   "source": [
    "import numpy as np\n",
    "\n",
    "# Example 2D array of shape (6, 6)\n",
    "arr = np.array([\n",
    "    [1, 2, 3, 4, 5, 6],\n",
    "    [7, 8, 9, 10, 11, 12],\n",
    "    [13, 14, 15, 16, 17, 18],\n",
    "    [19, 20, 21, 22, 23, 24],\n",
    "    [25, 26, 27, 28, 29, 30],\n",
    "    [31, 32, 33, 34, 35, 36]\n",
    "])\n",
    "\n",
    "# Extract a 2x2 sub-array starting from position (1, 1)\n",
    "sub_array = arr[1:3, 1:3]\n",
    "\n",
    "print(sub_array)"
   ]
  },
  {
   "cell_type": "code",
   "execution_count": 2,
   "id": "60604b3a-3e3a-4b8a-8bbd-637a9916d1e0",
   "metadata": {},
   "outputs": [
    {
     "name": "stdout",
     "output_type": "stream",
     "text": [
      "[[1 2]\n",
      " [3 4]]\n"
     ]
    }
   ],
   "source": [
    "# Form a 3D array of shape (3, 2, 1)\n",
    "arr = np.array([\n",
    "    [[1], [2]],\n",
    "    [[3], [4]],\n",
    "    [[5], [6]]\n",
    "])\n",
    "\n",
    "extracted_elements = arr[:2, :, 0]\n",
    "\n",
    "print(extracted_elements)"
   ]
  },
  {
   "cell_type": "code",
   "execution_count": 3,
   "id": "204d4654-4f08-4d7a-86b1-cfefd155ae55",
   "metadata": {},
   "outputs": [
    {
     "name": "stdout",
     "output_type": "stream",
     "text": [
      "[20 40 50 70]\n"
     ]
    }
   ],
   "source": [
    "arr = np.array([10, 20, 30, 40, 50, 60, 70, 80])\n",
    "\n",
    "# Extract elements at positions [1, 3, 4, 6]\n",
    "extracted_elements = arr[[1, 3, 4, 6]]\n",
    "\n",
    "print(extracted_elements)"
   ]
  },
  {
   "cell_type": "code",
   "execution_count": 4,
   "id": "e55d0176-e150-451b-9c58-d10a97f117dc",
   "metadata": {},
   "outputs": [
    {
     "name": "stdout",
     "output_type": "stream",
     "text": [
      "[[ 2  4]\n",
      " [10 12]\n",
      " [10 12]]\n"
     ]
    }
   ],
   "source": [
    "#Given a 2D array, use fancy indexing to select rows [0, 2, 2] and columns [1, 3].\n",
    "arr = np.array([\n",
    "    [1, 2, 3, 4],\n",
    "    [5, 6, 7, 8],\n",
    "    [9, 10, 11, 12],\n",
    "    [13, 14, 15, 16]\n",
    "])\n",
    "\n",
    "# Use fancy indexing to select rows [0, 2, 2] and columns [1, 3]\n",
    "rows = [0, 2, 2]\n",
    "cols = [1, 3]\n",
    "\n",
    "# Extract the elements using numpy's indexing\n",
    "extracted_elements = arr[rows, :][:, cols]\n",
    "\n",
    "print(extracted_elements)\n"
   ]
  },
  {
   "cell_type": "code",
   "execution_count": 5,
   "id": "9b4c96ad-baed-46cd-86f3-895fbe9ab373",
   "metadata": {},
   "outputs": [
    {
     "name": "stdout",
     "output_type": "stream",
     "text": [
      "Array: [19  2  4  7 12 14 15 18  6  8]\n",
      "Elements greater than 8: [19 12 14 15 18]\n"
     ]
    }
   ],
   "source": [
    "#From a 1D array of random integers, extract all elements that are greater than 8.\n",
    "\n",
    "arr = np.random.randint(1, 20, size=10)\n",
    "extracted_elements = arr[arr > 8]\n",
    "\n",
    "print(\"Array:\", arr)\n",
    "print(\"Elements greater than 8:\", extracted_elements)"
   ]
  },
  {
   "cell_type": "code",
   "execution_count": 6,
   "id": "d593ea1b-1e4c-4aec-bf47-4419cc580689",
   "metadata": {},
   "outputs": [
    {
     "name": "stdout",
     "output_type": "stream",
     "text": [
      "[[ 1  2  3  0  5  0]\n",
      " [ 7  8  9 10 11 12]\n",
      " [13  0  0  0  0  0]\n",
      " [ 0  0  0  0  0  0]\n",
      " [ 0  0  0  0  0  0]\n",
      " [ 0  0  0  0  0  0]]\n"
     ]
    }
   ],
   "source": [
    "#Given a 2D array of shape (6, 6), replace all elements greater than 13 with the value 0.\n",
    "# Example 2D array of shape (6, 6)\n",
    "arr = np.array([\n",
    "    [1, 2, 3, 14, 5, 16],\n",
    "    [7, 8, 9, 10, 11, 12],\n",
    "    [13, 14, 15, 16, 17, 18],\n",
    "    [19, 20, 21, 22, 23, 24],\n",
    "    [25, 26, 27, 28, 29, 30],\n",
    "    [31, 32, 33, 34, 35, 36]\n",
    "])\n",
    "\n",
    "# Replace all elements greater than 13 with 0\n",
    "arr[arr > 13] = 0\n",
    "\n",
    "print(arr)"
   ]
  },
  {
   "cell_type": "markdown",
   "id": "eaac6449-5ab7-4944-bace-188d0214624b",
   "metadata": {},
   "source": [
    "BROADCASTING"
   ]
  },
  {
   "cell_type": "code",
   "execution_count": 7,
   "id": "7e9d486d-10b0-4898-bdeb-f432fd494c10",
   "metadata": {},
   "outputs": [
    {
     "name": "stdout",
     "output_type": "stream",
     "text": [
      "[[ 5  7  9]\n",
      " [ 8 10 12]\n",
      " [11 13 15]\n",
      " [14 16 18]]\n"
     ]
    }
   ],
   "source": [
    "arr1 = np.array([1, 2, 3])\n",
    "\n",
    "# 2D array of shape (4, 3)\n",
    "arr2 = np.array([\n",
    "    [4, 5, 6],\n",
    "    [7, 8, 9],\n",
    "    [10, 11, 12],\n",
    "    [13, 14, 15]\n",
    "])\n",
    "\n",
    "# Add the 1D array to each row of the 2D array\n",
    "result = arr2 + arr1\n",
    "\n",
    "print(result)"
   ]
  },
  {
   "cell_type": "code",
   "execution_count": 8,
   "id": "bae275a8-b894-4138-a8f1-ea468da6d1d9",
   "metadata": {},
   "outputs": [
    {
     "name": "stdout",
     "output_type": "stream",
     "text": [
      "[[ 4 10 18]\n",
      " [ 7 16 27]\n",
      " [10 22 36]]\n"
     ]
    }
   ],
   "source": [
    "# 1D array of shape (3,)\n",
    "arr1 = np.array([1, 2, 3])\n",
    "\n",
    "# 2D array of shape (3, 3)\n",
    "arr2 = np.array([\n",
    "    [4, 5, 6],\n",
    "    [7, 8, 9],\n",
    "    [10, 11, 12]\n",
    "])\n",
    "\n",
    "# Multiply the 2D array by the 1D array\n",
    "result = arr2 * arr1\n",
    "\n",
    "print(result)"
   ]
  },
  {
   "cell_type": "code",
   "execution_count": 9,
   "id": "91d5024e-ab0a-4b11-b00b-7f6c488f73c5",
   "metadata": {},
   "outputs": [
    {
     "name": "stdout",
     "output_type": "stream",
     "text": [
      "[[ 5  6  7  8]\n",
      " [ 6  7  8  9]\n",
      " [ 7  8  9 10]]\n"
     ]
    }
   ],
   "source": [
    "#Create two 2D arrays of shapes (3, 1) and (1, 4) respectively, and perform element-wise addition.\n",
    "arr1 = np.array([[1], [2], [3]])\n",
    "\n",
    "# Create a 2D array of shape (1, 4)\n",
    "arr2 = np.array([[4, 5, 6, 7]])\n",
    "\n",
    "# Perform element-wise addition using broadcasting\n",
    "result = arr1 + arr2\n",
    "\n",
    "print(result)"
   ]
  },
  {
   "cell_type": "code",
   "execution_count": 10,
   "id": "27403164-fd3f-4aef-9f6e-d1a679949032",
   "metadata": {},
   "outputs": [
    {
     "name": "stdout",
     "output_type": "stream",
     "text": [
      "[[[ 2  4  4  6]\n",
      "  [ 8 10 10 12]\n",
      "  [14 16 16 18]]\n",
      "\n",
      " [[14 16 16 18]\n",
      "  [20 22 22 24]\n",
      "  [26 28 28 30]]]\n"
     ]
    }
   ],
   "source": [
    "#Given a 3D array of shape (2, 3, 4), add a 2D array of shape (3, 4) to each 2D slice along the first axis.\n",
    "# Create a 3D array of shape (2, 3, 4)\n",
    "arr3d = np.array([\n",
    "    [[1, 2, 3, 4],\n",
    "     [5, 6, 7, 8],\n",
    "     [9, 10, 11, 12]],\n",
    "\n",
    "    [[13, 14, 15, 16],\n",
    "     [17, 18, 19, 20],\n",
    "     [21, 22, 23, 24]]\n",
    "])\n",
    "\n",
    "# Create a 2D array of shape (3, 4)\n",
    "arr2d = np.array([\n",
    "    [1, 2, 1, 2],\n",
    "    [3, 4, 3, 4],\n",
    "    [5, 6, 5, 6]\n",
    "])\n",
    "\n",
    "# Add the 2D array to each 2D slice along the first axis\n",
    "result = arr3d + arr2d\n",
    "\n",
    "print(result)"
   ]
  },
  {
   "cell_type": "code",
   "execution_count": 11,
   "id": "cf280402-0d2a-43a2-bb28-7a89693fd21a",
   "metadata": {},
   "outputs": [
    {
     "name": "stdout",
     "output_type": "stream",
     "text": [
      "Sliced Array:\n",
      "[[ 1  3  5]\n",
      " [11 13 15]]\n"
     ]
    },
    {
     "ename": "ValueError",
     "evalue": "operands could not be broadcast together with shapes (2,3) (4,1) ",
     "output_type": "error",
     "traceback": [
      "\u001b[1;31m---------------------------------------------------------------------------\u001b[0m",
      "\u001b[1;31mValueError\u001b[0m                                Traceback (most recent call last)",
      "Cell \u001b[1;32mIn[11], line 20\u001b[0m\n\u001b[0;32m     17\u001b[0m add_array \u001b[38;5;241m=\u001b[39m np\u001b[38;5;241m.\u001b[39marray([\u001b[38;5;241m10\u001b[39m, \u001b[38;5;241m20\u001b[39m, \u001b[38;5;241m30\u001b[39m, \u001b[38;5;241m40\u001b[39m])\n\u001b[0;32m     19\u001b[0m \u001b[38;5;66;03m# Add the 1D array to each row of the sliced array\u001b[39;00m\n\u001b[1;32m---> 20\u001b[0m result \u001b[38;5;241m=\u001b[39m sliced_array \u001b[38;5;241m+\u001b[39m add_array[:, np\u001b[38;5;241m.\u001b[39mnewaxis]\n\u001b[0;32m     22\u001b[0m \u001b[38;5;28mprint\u001b[39m(\u001b[38;5;124m\"\u001b[39m\u001b[38;5;130;01m\\n\u001b[39;00m\u001b[38;5;124mResult after adding 1D array to each row:\u001b[39m\u001b[38;5;124m\"\u001b[39m)\n\u001b[0;32m     23\u001b[0m \u001b[38;5;28mprint\u001b[39m(result)\n",
      "\u001b[1;31mValueError\u001b[0m: operands could not be broadcast together with shapes (2,3) (4,1) "
     ]
    }
   ],
   "source": [
    "#Given a 2D array, use slicing to extract every second row and every second column, then add a 1D array to each row of the sliced array.\n",
    "# Example 2D array\n",
    "arr2d = np.array([\n",
    "    [1, 2, 3, 4, 5],\n",
    "    [6, 7, 8, 9, 10],\n",
    "    [11, 12, 13, 14, 15],\n",
    "    [16, 17, 18, 19, 20]\n",
    "])\n",
    "\n",
    "# Extract every second row and every second column\n",
    "sliced_array = arr2d[::2, ::2]\n",
    "\n",
    "print(\"Sliced Array:\")\n",
    "print(sliced_array)\n",
    "\n",
    "# Example 1D array to add to each row of the sliced array\n",
    "add_array = np.array([10, 20, 30, 40])\n",
    "\n",
    "# Add the 1D array to each row of the sliced array\n",
    "result = sliced_array + add_array[:, np.newaxis]\n",
    "\n",
    "print(\"\\nResult after adding 1D array to each row:\")\n",
    "print(result)"
   ]
  },
  {
   "cell_type": "code",
   "execution_count": null,
   "id": "1015acb9-9444-484b-a134-1c963212a308",
   "metadata": {},
   "outputs": [],
   "source": []
  }
 ],
 "metadata": {
  "kernelspec": {
   "display_name": "Python 3 (ipykernel)",
   "language": "python",
   "name": "python3"
  },
  "language_info": {
   "codemirror_mode": {
    "name": "ipython",
    "version": 3
   },
   "file_extension": ".py",
   "mimetype": "text/x-python",
   "name": "python",
   "nbconvert_exporter": "python",
   "pygments_lexer": "ipython3",
   "version": "3.11.7"
  }
 },
 "nbformat": 4,
 "nbformat_minor": 5
}
