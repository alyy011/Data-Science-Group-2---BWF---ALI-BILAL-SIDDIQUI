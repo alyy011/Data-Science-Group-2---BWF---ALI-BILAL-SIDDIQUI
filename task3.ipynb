{
 "cells": [
  {
   "cell_type": "markdown",
   "id": "347eefec-9bdf-4594-8f24-de964dd973b5",
   "metadata": {},
   "source": [
    " # Heading 1\r\n",
    "## Heading 2\r\n",
    "### Heading 3\r\n"
   ]
  },
  {
   "cell_type": "markdown",
   "id": "7c1ffecc-4a17-4bcc-8543-bce07a7e6772",
   "metadata": {},
   "source": [
    "MARKDOWN\n"
   ]
  },
  {
   "cell_type": "code",
   "execution_count": 3,
   "id": "8a0cdfca-34f6-46aa-831d-458a6f232cdc",
   "metadata": {},
   "outputs": [
    {
     "name": "stdout",
     "output_type": "stream",
     "text": [
      "this is Ali\n"
     ]
    }
   ],
   "source": [
    "#code section\n",
    "\n",
    "print(\"this is Ali\")"
   ]
  },
  {
   "cell_type": "code",
   "execution_count": null,
   "id": "86ff8775-f5ab-4d93-8825-e3ec447e887a",
   "metadata": {},
   "outputs": [],
   "source": []
  }
 ],
 "metadata": {
  "kernelspec": {
   "display_name": "Python 3 (ipykernel)",
   "language": "python",
   "name": "python3"
  },
  "language_info": {
   "codemirror_mode": {
    "name": "ipython",
    "version": 3
   },
   "file_extension": ".py",
   "mimetype": "text/x-python",
   "name": "python",
   "nbconvert_exporter": "python",
   "pygments_lexer": "ipython3",
   "version": "3.11.7"
  }
 },
 "nbformat": 4,
 "nbformat_minor": 5
}
